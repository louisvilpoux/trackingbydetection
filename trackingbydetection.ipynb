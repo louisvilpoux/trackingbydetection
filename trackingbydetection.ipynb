{
 "cells": [
  {
   "cell_type": "code",
   "execution_count": 1,
   "metadata": {
    "collapsed": false
   },
   "outputs": [],
   "source": [
    "import numpy as np\n",
    "import pandas as pd\n",
    "import cv2\n",
    "import os"
   ]
  },
  {
   "cell_type": "code",
   "execution_count": 2,
   "metadata": {
    "collapsed": false
   },
   "outputs": [
    {
     "name": "stderr",
     "output_type": "stream",
     "text": [
      "/usr/local/lib/python2.7/site-packages/matplotlib/font_manager.py:273: UserWarning: Matplotlib is building the font cache using fc-list. This may take a moment.\n",
      "  warnings.warn('Matplotlib is building the font cache using fc-list. This may take a moment.')\n"
     ]
    }
   ],
   "source": [
    "import scipy.stats as ss\n",
    "import numpy as np\n",
    "import matplotlib as mpl\n",
    "import matplotlib.pyplot as plt\n",
    "%matplotlib inline"
   ]
  },
  {
   "cell_type": "code",
   "execution_count": null,
   "metadata": {
    "collapsed": false
   },
   "outputs": [],
   "source": [
    "x = np.arange(-10, 11)\n",
    "xU, xL = x + 0.5, x - 0.5 \n",
    "prob = ss.norm.cdf(xU, scale = 3) - ss.norm.cdf(xL, scale = 3)\n",
    "prob = prob / prob.sum() #normalize the probabilities so their sum is 1\n",
    "nums = np.random.choice(x, size = 10000, p = prob)\n",
    "plt.hist(nums, bins = len(x))"
   ]
  },
  {
   "cell_type": "code",
   "execution_count": null,
   "metadata": {
    "collapsed": false
   },
   "outputs": [],
   "source": [
    "x = np.random.randn(4)"
   ]
  },
  {
   "cell_type": "code",
   "execution_count": null,
   "metadata": {
    "collapsed": true
   },
   "outputs": [],
   "source": []
  },
  {
   "cell_type": "code",
   "execution_count": 127,
   "metadata": {
    "collapsed": false
   },
   "outputs": [
    {
     "data": {
      "image/png": "[encoded data removed]",
      "text/plain": [
       "<matplotlib.figure.Figure at 0x118419690>"
      ]
     },
     "metadata": {},
     "output_type": "display_data"
    }
   ],
   "source": [
    "from scipy.stats import multivariate_normal\n",
    "mean = [167, 165]\n",
    "cov = [[6, 0], [0, 6]]\n",
    "#cov = [[1, 0], [0, 1]]\n",
    "x, y = np.random.multivariate_normal(mean, cov, 100).T\n",
    "plt.plot(x, y, 'x')\n",
    "plt.axis('equal')\n",
    "plt.show()"
   ]
  },
  {
   "cell_type": "code",
   "execution_count": 128,
   "metadata": {
    "collapsed": false
   },
   "outputs": [
    {
     "data": {
      "text/plain": [
       "159.37992351706617"
      ]
     },
     "execution_count": 128,
     "metadata": {},
     "output_type": "execute_result"
    }
   ],
   "source": [
    "min(y)"
   ]
  },
  {
   "cell_type": "code",
   "execution_count": 119,
   "metadata": {
    "collapsed": false
   },
   "outputs": [],
   "source": [
    "(x,y,w,h) = (165, 152, 6, 34)\n",
    "(cX,cY) = (167, 165)"
   ]
  },
  {
   "cell_type": "code",
   "execution_count": 120,
   "metadata": {
    "collapsed": false
   },
   "outputs": [],
   "source": [
    "x_min = x\n",
    "x_max = x+w\n",
    "y_min = y\n",
    "y_max = y+h"
   ]
  },
  {
   "cell_type": "code",
   "execution_count": 126,
   "metadata": {
    "collapsed": false
   },
   "outputs": [
    {
     "data": {
      "text/plain": [
       "6"
      ]
     },
     "execution_count": 126,
     "metadata": {},
     "output_type": "execute_result"
    }
   ],
   "source": [
    "min(w,h)"
   ]
  },
  {
   "cell_type": "code",
   "execution_count": null,
   "metadata": {
    "collapsed": true
   },
   "outputs": [],
   "source": []
  },
  {
   "cell_type": "code",
   "execution_count": null,
   "metadata": {
    "collapsed": true
   },
   "outputs": [],
   "source": []
  },
  {
   "cell_type": "code",
   "execution_count": 9,
   "metadata": {
    "collapsed": false
   },
   "outputs": [
    {
     "data": {
      "text/plain": [
       "[[-0.011312060560233456, -0.26877242735506396],\n",
       " [0.35570660440170593, -0.2617895218718968],\n",
       " [-0.098398454116311485, 0.080656392409120869],\n",
       " [-0.28090078821996917, -0.20569976297077056],\n",
       " [0.056360798873888125, 0.037129473603810123],\n",
       " [-0.64413804016956711, 0.30857121843167562],\n",
       " [0.34931634907329512, 0.57675273471019783],\n",
       " [0.11608921350196441, 0.19217063250090965],\n",
       " [0.35529464423263429, 0.11260734585114418],\n",
       " [0.27322834700058513, 0.26988262415654313],\n",
       " [-0.23820937126641503, -0.16563253057605803],\n",
       " [-0.23604211842805997, -0.1944375335734192],\n",
       " [-0.38723277649086085, 0.33341397879722184],\n",
       " [-0.027087900245315096, -0.038671674919599337],\n",
       " [0.16769129149372644, -0.52889130500138903],\n",
       " [0.84974070362277909, 0.078905765081002652],\n",
       " [0.51710909811958616, -0.18627700729328708],\n",
       " [-0.46123115642258639, 0.56986403295610355],\n",
       " [0.13412009670962571, 0.22954485054734267],\n",
       " [0.092216941602249664, -0.10267466705506541],\n",
       " [0.29914044165553288, 0.836769272128426],\n",
       " [0.62854264869100662, 0.23443901611134466],\n",
       " [0.48491769817499319, -0.62392134229509466],\n",
       " [0.50078088862053272, 0.038775621534828872],\n",
       " [-0.11103866971483306, 0.22891820850230304],\n",
       " [0.010923265634515509, 0.0094079425046855927],\n",
       " [0.15858284231340489, 0.24922048986668896],\n",
       " [0.54094315237679047, 0.24779144477578088],\n",
       " [-0.33295032067923097, -0.1374753313553867],\n",
       " [0.23413812538830567, 0.57426649450258238],\n",
       " [0.25669994603653101, 0.40178561412131647],\n",
       " [-0.28411936747973965, -0.067043072724008002],\n",
       " [0.56780951330033769, -0.14564199717419668],\n",
       " [0.18778422183968566, -0.30171080996170324],\n",
       " [0.46813102118616712, -0.45254711250878921],\n",
       " [0.15018698110422421, -0.14006829191680817],\n",
       " [0.2190961964017899, -0.47021040320638602],\n",
       " [-0.19300390946928303, 0.73776470850112197],\n",
       " [0.099756646087739584, 0.050253497045074001],\n",
       " [0.22294899665063139, -0.18604568318734835],\n",
       " [0.094370138790058303, 0.20404937131084797],\n",
       " [0.073121245152306058, -0.14381114814666329],\n",
       " [0.082054910302538087, 0.046420713057142252],\n",
       " [0.13443125286663654, -0.14276694380616423],\n",
       " [-0.53106199081787364, 0.056438220142475314],\n",
       " [-0.37465796680103486, 0.58019046735827107],\n",
       " [0.25067934667611275, -0.14566745919262883],\n",
       " [-0.17617868519413107, -0.23162013349377414],\n",
       " [0.14388562590770415, 0.067918324971479302],\n",
       " [0.24654715115513209, 0.37148202086446108],\n",
       " [-0.04733507845261932, -0.21768458461966531],\n",
       " [-0.148274749847533, 0.29722316980579067],\n",
       " [-0.051321623333502008, -0.048520430560730105],\n",
       " [-0.10658136209905557, 0.23556541412009349],\n",
       " [0.24822066629485182, -0.2899574051940233],\n",
       " [-0.27707983640425565, -0.15044540394099801],\n",
       " [0.50777522181724621, -0.25919859556035718],\n",
       " [-0.14114051821744514, -0.25568097787268568],\n",
       " [-0.27305123827786532, 0.22444066799515086],\n",
       " [0.46922936573258683, -0.010020023758689611],\n",
       " [0.17065096062564691, -0.19764258296859935],\n",
       " [-0.1272047947164513, -0.49174783152179347],\n",
       " [0.14753260129718485, -0.08789357293440897],\n",
       " [-0.080963662953768667, -0.50153885380631769],\n",
       " [0.057879148525611199, -0.016788110075586046],\n",
       " [0.028928578734336758, -0.18688542090953106],\n",
       " [0.020399958366960669, 0.44434800428505855],\n",
       " [-0.41738591520123952, -0.4414360885372276],\n",
       " [-0.083292269571584296, -0.071458168977502276],\n",
       " [-0.024097749803167586, 0.15680130039726511],\n",
       " [-0.43125306708496891, -0.18472411612214862],\n",
       " [0.16509952142380205, -0.15705020171036033],\n",
       " [0.3583468868954926, -0.17194918654393873],\n",
       " [0.011679535678586253, -0.04094536226289508],\n",
       " [-0.60325533317284574, 0.070915986508805567],\n",
       " [-0.085614868901453894, -0.54755836620798348],\n",
       " [0.14253642564747163, -0.42375258455366355],\n",
       " [-0.21858047823175286, -0.10489309556591511],\n",
       " [0.55114953585212034, -0.41753097832809338],\n",
       " [0.084966764720224214, 0.013289193818078221],\n",
       " [0.03365641655329274, -0.049180255193737449],\n",
       " [-0.087577278491324406, -0.29140285057397403],\n",
       " [0.31405497801155458, -0.030556413990834995],\n",
       " [0.36447548078599068, -0.021729790859788999],\n",
       " [0.015371883285965234, -0.21481664080378995],\n",
       " [-0.40417205694601482, -0.18048504008205996],\n",
       " [0.12066024110646456, -0.40095799032545976],\n",
       " [0.22779808427887768, 0.20084626676631462],\n",
       " [-0.092725856147316627, -0.21669638580516398],\n",
       " [-0.22260222069634028, 0.049775265695403158],\n",
       " [0.30422614247495705, -0.34681006562477307],\n",
       " [0.082681813996315107, -0.39847881124416584],\n",
       " [-0.075410909803714274, 0.18904117125955297],\n",
       " [-0.26678911975154057, 0.42286546130668934],\n",
       " [0.03159119059013539, -0.59688404178247967],\n",
       " [0.5863477957382156, -0.17252643185844277],\n",
       " [0.4613135656422786, -0.43134962640421198],\n",
       " [0.64257449436015668, -0.074557075791072874],\n",
       " [0.18171147505667071, -0.44812659651295289],\n",
       " [0.023783625667150681, -0.19146537204273453]]"
      ]
     },
     "execution_count": 9,
     "metadata": {},
     "output_type": "execute_result"
    }
   ],
   "source": [
    "center = []\n",
    "for i,j in zip(x,y):\n",
    "    center.append([i,j])\n",
    "center"
   ]
  },
  {
   "cell_type": "code",
   "execution_count": null,
   "metadata": {
    "collapsed": false
   },
   "outputs": [],
   "source": []
  },
  {
   "cell_type": "code",
   "execution_count": 4,
   "metadata": {
    "collapsed": false
   },
   "outputs": [
    {
     "data": {
      "text/plain": [
       "(255, 0, 0)"
      ]
     },
     "execution_count": 4,
     "metadata": {},
     "output_type": "execute_result"
    }
   ],
   "source": [
    "colors = {\"red\" : (255, 0, 0), \"green\" : (0, 255, 0), \"white\" : (255, 255, 255), \n",
    "          \"blue\" : (0, 0, 255), \"yellow\" : (255, 255, 0) , \"turquoise\" : (0, 255, 255), \"purple\" : (255, 0, 255)}\n",
    "colors[\"red\"]"
   ]
  },
  {
   "cell_type": "code",
   "execution_count": null,
   "metadata": {
    "collapsed": true
   },
   "outputs": [],
   "source": []
  },
  {
   "cell_type": "code",
   "execution_count": null,
   "metadata": {
    "collapsed": true
   },
   "outputs": [],
   "source": []
  },
  {
   "cell_type": "code",
   "execution_count": null,
   "metadata": {
    "collapsed": true
   },
   "outputs": [],
   "source": []
  }
 ],
 "metadata": {
  "anaconda-cloud": {},
  "kernelspec": {
   "display_name": "Python [Root]",
   "language": "python",
   "name": "Python [Root]"
  },
  "language_info": {
   "codemirror_mode": {
    "name": "ipython",
    "version": 2
   },
   "file_extension": ".py",
   "mimetype": "text/x-python",
   "name": "python",
   "nbconvert_exporter": "python",
   "pygments_lexer": "ipython2",
   "version": "2.7.11"
  }
 },
 "nbformat": 4,
 "nbformat_minor": 0
}
