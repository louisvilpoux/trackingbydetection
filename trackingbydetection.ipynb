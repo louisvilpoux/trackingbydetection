{
 "cells": [
  {
   "cell_type": "code",
   "execution_count": 13,
   "metadata": {
    "collapsed": false
   },
   "outputs": [],
   "source": [
    "import numpy as np\n",
    "import pandas as pd\n",
    "import cv2\n",
    "import os"
   ]
  },
  {
   "cell_type": "code",
   "execution_count": 14,
   "metadata": {
    "collapsed": false
   },
   "outputs": [],
   "source": [
    "import scipy.stats as ss\n",
    "import scipy.spatial as ssp\n",
    "import numpy as np\n",
    "import matplotlib as mpl\n",
    "import matplotlib.pyplot as plt\n",
    "%matplotlib inline"
   ]
  },
  {
   "cell_type": "code",
   "execution_count": null,
   "metadata": {
    "collapsed": false
   },
   "outputs": [],
   "source": [
    "x = np.arange(-10, 11)\n",
    "xU, xL = x + 0.5, x - 0.5 \n",
    "prob = ss.norm.cdf(xU, scale = 3) - ss.norm.cdf(xL, scale = 3)\n",
    "prob = prob / prob.sum() #normalize the probabilities so their sum is 1\n",
    "nums = np.random.choice(x, size = 10000, p = prob)\n",
    "plt.hist(nums, bins = len(x))"
   ]
  },
  {
   "cell_type": "code",
   "execution_count": null,
   "metadata": {
    "collapsed": false
   },
   "outputs": [],
   "source": [
    "x = np.random.randn(4)"
   ]
  },
  {
   "cell_type": "code",
   "execution_count": null,
   "metadata": {
    "collapsed": true
   },
   "outputs": [],
   "source": []
  },
  {
   "cell_type": "code",
   "execution_count": 15,
   "metadata": {
    "collapsed": false
   },
   "outputs": [
    {
     "data": {
      "image/png": "[encoded data removed]",
      "text/plain": [
       "<matplotlib.figure.Figure at 0x11556c290>"
      ]
     },
     "metadata": {},
     "output_type": "display_data"
    }
   ],
   "source": [
    "from scipy.stats import multivariate_normal\n",
    "mean = [167, 165]\n",
    "cov = [[6, 0], [0, 6]]\n",
    "#cov = [[1, 0], [0, 1]]\n",
    "x, y = np.random.multivariate_normal(mean, cov, 100).T\n",
    "plt.plot(x, y, 'x')\n",
    "plt.axis('equal')\n",
    "plt.show()"
   ]
  },
  {
   "cell_type": "code",
   "execution_count": 4,
   "metadata": {
    "collapsed": false
   },
   "outputs": [
    {
     "data": {
      "text/plain": [
       "160.16353431597551"
      ]
     },
     "execution_count": 4,
     "metadata": {},
     "output_type": "execute_result"
    }
   ],
   "source": [
    "min(y)"
   ]
  },
  {
   "cell_type": "code",
   "execution_count": 5,
   "metadata": {
    "collapsed": false
   },
   "outputs": [],
   "source": [
    "(x,y,w,h) = (165, 152, 6, 34)\n",
    "(cX,cY) = (167, 165)"
   ]
  },
  {
   "cell_type": "code",
   "execution_count": 6,
   "metadata": {
    "collapsed": false
   },
   "outputs": [
    {
     "data": {
      "text/plain": [
       "6"
      ]
     },
     "execution_count": 6,
     "metadata": {},
     "output_type": "execute_result"
    }
   ],
   "source": [
    "min(w,h)"
   ]
  },
  {
   "cell_type": "code",
   "execution_count": null,
   "metadata": {
    "collapsed": false
   },
   "outputs": [],
   "source": []
  },
  {
   "cell_type": "code",
   "execution_count": null,
   "metadata": {
    "collapsed": true
   },
   "outputs": [],
   "source": []
  },
  {
   "cell_type": "code",
   "execution_count": null,
   "metadata": {
    "collapsed": true
   },
   "outputs": [],
   "source": []
  },
  {
   "cell_type": "code",
   "execution_count": 9,
   "metadata": {
    "collapsed": false
   },
   "outputs": [],
   "source": [
    "center = []\n",
    "for i,j in zip(x,y):\n",
    "    center.append([i,j])\n",
    "#center"
   ]
  },
  {
   "cell_type": "code",
   "execution_count": null,
   "metadata": {
    "collapsed": false
   },
   "outputs": [],
   "source": []
  },
  {
   "cell_type": "code",
   "execution_count": 10,
   "metadata": {
    "collapsed": false
   },
   "outputs": [
    {
     "data": {
      "text/plain": [
       "(255, 0, 0)"
      ]
     },
     "execution_count": 10,
     "metadata": {},
     "output_type": "execute_result"
    }
   ],
   "source": [
    "colors = {\"red\" : (255, 0, 0), \"green\" : (0, 255, 0), \"white\" : (255, 255, 255), \n",
    "          \"blue\" : (0, 0, 255), \"yellow\" : (255, 255, 0) , \"turquoise\" : (0, 255, 255), \"purple\" : (255, 0, 255)}\n",
    "colors[\"red\"]"
   ]
  },
  {
   "cell_type": "code",
   "execution_count": null,
   "metadata": {
    "collapsed": true
   },
   "outputs": [],
   "source": []
  },
  {
   "cell_type": "code",
   "execution_count": null,
   "metadata": {
    "collapsed": true
   },
   "outputs": [],
   "source": []
  },
  {
   "cell_type": "code",
   "execution_count": 5,
   "metadata": {
    "collapsed": true
   },
   "outputs": [],
   "source": [
    "detect = [[424, 187, 418, 159, 432, 209]]\n",
    "particl = [[421.56616364863606, 188.39248021732115, 0, None, None, 0], [417.99844369693909, 187.78566226640322, 0, None, None, 0], [423.4707632504464, 186.01749326850677, 0, None, None, 0], [419.90549038891373, 182.77200501782343, 0, None, None, 0], [424.41519540018129, 186.88724356497349, 0, None, None, 0], [423.84224782831421, 185.89510592266757, 0, None, None, 0], [423.93986868804387, 184.8628308709645, 0, None, None, 0], [419.30772544573631, 180.91632123418279, 0, None, None, 0], [427.55747228781672, 185.03487828555325, 0, None, None, 0], [421.04410241303674, 186.95924805042955, 0, None, None, 0], [418.70447046780288, 190.60594144002411, 0, None, None, 0], [418.67272508326266, 186.40212911361129, 0, None, None, 0], [420.17411370377044, 189.27496420541519, 0, None, None, 0], [422.63170979978463, 182.22047757778586, 0, None, None, 0], [426.01643463995674, 186.88477207309597, 0, None, None, 0], [425.55129256524827, 186.82690503327629, 0, None, None, 0], [417.19365806433927, 186.14045219970245, 0, None, None, 0], [418.17753703164709, 188.14116295078614, 0, None, None, 0], [425.02109568116066, 177.17041258097569, 0, None, None, 0], [425.74831234856697, 185.02399458674788, 0, None, None, 0], [427.10484733033127, 178.5154483177069, 0, None, None, 0], [421.16988947605955, 187.10148070989467, 0, None, None, 0], [428.28451968186403, 191.88556561524754, 0, None, None, 0], [421.75925959239612, 184.55303777926738, 0, None, None, 0], [425.76920994665551, 193.06484052374546, 0, None, None, 0], [416.51990555511276, 190.8665853687269, 0, None, None, 0], [423.13086740771683, 190.46475780936402, 0, None, None, 0], [417.85121398682509, 186.08692587566762, 0, None, None, 0], [418.34317681847858, 190.9771838938743, 0, None, None, 0], [417.75441812377602, 192.35878345338168, 0, None, None, 0], [418.75072401722292, 188.66804865896091, 0, None, None, 0], [423.4918792141932, 183.99934134152559, 0, None, None, 0], [423.96714895242786, 183.42997051710609, 0, None, None, 0], [420.9467952911379, 185.94980810312762, 0, None, None, 0], [426.78824179319435, 186.98374373716294, 0, None, None, 0], [418.96578761528872, 185.01450033486219, 0, None, None, 0], [420.25433499000093, 189.4074367081148, 0, None, None, 0], [425.97743299741444, 184.57064563348092, 0, None, None, 0], [423.6986526772659, 185.97238550611192, 0, None, None, 0], [425.18394333306247, 184.31786863474966, 0, None, None, 0], [421.73689164680655, 184.22079048310479, 0, None, None, 0], [431.22502076144411, 188.38903477632772, 0, None, None, 0], [426.66816376163041, 189.9286325407013, 0, None, None, 0], [424.64151674515307, 190.32232995230154, 0, None, None, 0], [426.29060389044156, 183.60553567212284, 0, None, None, 0], [427.5892207306569, 181.30135073685182, 0, None, None, 0], [429.61565053794874, 181.78439072021095, 0, None, None, 0], [427.54546587382265, 183.8866044982467, 0, None, None, 0], [428.79402458725622, 190.88234249937332, 0, None, None, 0], [423.87491167939396, 193.06783860967025, 0, None, None, 0], [423.3027967408334, 196.51191117821415, 0, None, None, 0], [422.20506253524627, 190.2444756437377, 0, None, None, 0], [420.9969299187382, 188.59618180695099, 0, None, None, 0], [427.84940671467632, 187.05393783297265, 0, None, None, 0], [420.36770603265307, 182.56368075794944, 0, None, None, 0], [421.01032393361209, 188.80996909706838, 0, None, None, 0], [420.23627041661797, 187.21628837724964, 0, None, None, 0], [430.92446648906724, 191.66594488511939, 0, None, None, 0], [423.29075970061439, 184.34337597117155, 0, None, None, 0], [426.76280192197538, 181.33886733535292, 0, None, None, 0], [430.67109541778706, 186.65799726677855, 0, None, None, 0], [421.86763416086603, 192.75964882323564, 0, None, None, 0], [425.36355382877724, 188.13938692096917, 0, None, None, 0], [430.44620595485395, 182.87486171911411, 0, None, None, 0], [418.4833358438276, 193.45718357000129, 0, None, None, 0], [412.80699256758652, 185.61887685798251, 0, None, None, 0], [422.83734329447219, 186.91006556693918, 0, None, None, 0], [423.21258572442326, 190.46892133050366, 0, None, None, 0], [418.75424848221024, 187.75127976324015, 0, None, None, 0], [427.53166093073014, 185.09424390847423, 0, None, None, 0], [430.41631169706153, 185.85976787753907, 0, None, None, 0], [415.68307067368914, 186.13847010707289, 0, None, None, 0], [423.57633368436575, 197.67200298491989, 0, None, None, 0], [423.77947396334389, 180.47190885479966, 0, None, None, 0], [420.94070837784233, 186.75906510692928, 0, None, None, 0], [425.69683202384783, 188.43263401448047, 0, None, None, 0], [417.04023545294018, 189.17369763585256, 0, None, None, 0], [421.25700032940364, 192.20341932306411, 0, None, None, 0], [422.27109628323291, 188.90623308873333, 0, None, None, 0], [422.71379051351818, 189.9363150393942, 0, None, None, 0], [423.77286579506722, 175.05272109399752, 0, None, None, 0], [427.39005635618963, 183.17018143950665, 0, None, None, 0], [422.526921339571, 193.29771840996773, 0, None, None, 0], [425.64693082828558, 183.60482816353567, 0, None, None, 0], [418.27138588828808, 183.6771994280702, 0, None, None, 0], [426.21291675439107, 187.65874447615295, 0, None, None, 0], [423.66143749602452, 193.44636244648461, 0, None, None, 0], [434.88452020081633, 183.85647500341364, 0, None, None, 0], [427.25397491890095, 184.94438107943259, 0, None, None, 0], [420.97011063365386, 189.35532245245233, 0, None, None, 0], [421.66262790355586, 188.0109990602781, 0, None, None, 0], [423.42720115135182, 187.05580844751955, 0, None, None, 0], [423.48498442564289, 183.54107825090836, 0, None, None, 0], [424.09584215385581, 180.61444529260052, 0, None, None, 0], [427.98990300838409, 194.88304755495426, 0, None, None, 0], [421.7569059719076, 182.06343232581452, 0, None, None, 0], [419.55921193820484, 183.275816064721, 0, None, None, 0], [423.3138163911978, 177.90387603884415, 0, None, None, 0], [420.38718679443986, 191.83755850672188, 0, None, None, 0], [423.41880144012902, 184.99892044477505, 0, None, None, 0]]"
   ]
  },
  {
   "cell_type": "code",
   "execution_count": 11,
   "metadata": {
    "collapsed": false
   },
   "outputs": [
    {
     "data": {
      "text/plain": [
       "2.8040257739277785"
      ]
     },
     "execution_count": 11,
     "metadata": {},
     "output_type": "execute_result"
    }
   ],
   "source": [
    "d = [detect[0][0],detect[0][1]]\n",
    "p = [particl[0][0],particl[0][1]]\n",
    "ssp.distance.euclidean(d,p)"
   ]
  },
  {
   "cell_type": "code",
   "execution_count": 13,
   "metadata": {
    "collapsed": false
   },
   "outputs": [],
   "source": [
    "test = [[1,2],[3,4]]"
   ]
  },
  {
   "cell_type": "code",
   "execution_count": 14,
   "metadata": {
    "collapsed": false
   },
   "outputs": [
    {
     "name": "stdout",
     "output_type": "stream",
     "text": [
      "[1, 2]\n",
      "[3, 4]\n"
     ]
    }
   ],
   "source": [
    "for t in test:\n",
    "    print t"
   ]
  },
  {
   "cell_type": "code",
   "execution_count": null,
   "metadata": {
    "collapsed": true
   },
   "outputs": [],
   "source": []
  },
  {
   "cell_type": "code",
   "execution_count": null,
   "metadata": {
    "collapsed": true
   },
   "outputs": [],
   "source": []
  },
  {
   "cell_type": "code",
   "execution_count": 16,
   "metadata": {
    "collapsed": false
   },
   "outputs": [
    {
     "name": "stdout",
     "output_type": "stream",
     "text": [
      "('trotro', [5, 244, 39])\n",
      "('ok', [3, 2, 3])\n",
      "('val', [6, 1, 22])\n"
     ]
    }
   ],
   "source": [
    "test = dict()\n",
    "test[\"ok\"] = [3,2,3]\n",
    "test[\"val\"] = [6,1,22]\n",
    "test[\"trotro\"] = [5,244,39]\n",
    "for key, val in test.iteritems():\n",
    "    print (key,val)"
   ]
  },
  {
   "cell_type": "code",
   "execution_count": null,
   "metadata": {
    "collapsed": false
   },
   "outputs": [],
   "source": []
  },
  {
   "cell_type": "code",
   "execution_count": null,
   "metadata": {
    "collapsed": false
   },
   "outputs": [],
   "source": []
  },
  {
   "cell_type": "code",
   "execution_count": 31,
   "metadata": {
    "collapsed": false
   },
   "outputs": [
    {
     "data": {
      "text/plain": [
       "2.8284271247461903"
      ]
     },
     "execution_count": 31,
     "metadata": {},
     "output_type": "execute_result"
    }
   ],
   "source": [
    "a = 2\n",
    "b = 3\n",
    "c = 4\n",
    "d = 5\n",
    "ssp.distance.cdist([(a,b)],[(c,d)],'euclidean')[0][0]"
   ]
  },
  {
   "cell_type": "code",
   "execution_count": 46,
   "metadata": {
    "collapsed": false
   },
   "outputs": [
    {
     "data": {
      "text/plain": [
       "1"
      ]
     },
     "execution_count": 46,
     "metadata": {},
     "output_type": "execute_result"
    }
   ],
   "source": [
    "#candidate = [[9,1],[5,6],[7,8]]\n",
    "candidate = [9,5,8]\n",
    "candidate.index(min(candidate))"
   ]
  },
  {
   "cell_type": "code",
   "execution_count": null,
   "metadata": {
    "collapsed": false
   },
   "outputs": [],
   "source": []
  },
  {
   "cell_type": "code",
   "execution_count": null,
   "metadata": {
    "collapsed": true
   },
   "outputs": [],
   "source": []
  }
 ],
 "metadata": {
  "anaconda-cloud": {},
  "kernelspec": {
   "display_name": "Python [Root]",
   "language": "python",
   "name": "Python [Root]"
  },
  "language_info": {
   "codemirror_mode": {
    "name": "ipython",
    "version": 2
   },
   "file_extension": ".py",
   "mimetype": "text/x-python",
   "name": "python",
   "nbconvert_exporter": "python",
   "pygments_lexer": "ipython2",
   "version": "2.7.11"
  }
 },
 "nbformat": 4,
 "nbformat_minor": 0
}
