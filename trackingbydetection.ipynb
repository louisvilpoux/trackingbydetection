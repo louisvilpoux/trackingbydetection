{
 "cells": [
  {
   "cell_type": "code",
   "execution_count": 7,
   "metadata": {
    "collapsed": false
   },
   "outputs": [],
   "source": [
    "import numpy as np\n",
    "import pandas as pd\n",
    "import cv2\n",
    "import os"
   ]
  },
  {
   "cell_type": "code",
   "execution_count": 8,
   "metadata": {
    "collapsed": false
   },
   "outputs": [],
   "source": [
    "import scipy.stats as ss\n",
    "import scipy.spatial as ssp\n",
    "import numpy as np\n",
    "import matplotlib as mpl\n",
    "import matplotlib.pyplot as plt\n",
    "%matplotlib inline"
   ]
  },
  {
   "cell_type": "code",
   "execution_count": null,
   "metadata": {
    "collapsed": false
   },
   "outputs": [],
   "source": [
    "x = np.arange(-10, 11)\n",
    "xU, xL = x + 0.5, x - 0.5 \n",
    "prob = ss.norm.cdf(xU, scale = 3) - ss.norm.cdf(xL, scale = 3)\n",
    "prob = prob / prob.sum() #normalize the probabilities so their sum is 1\n",
    "nums = np.random.choice(x, size = 10000, p = prob)\n",
    "plt.hist(nums, bins = len(x))"
   ]
  },
  {
   "cell_type": "code",
   "execution_count": null,
   "metadata": {
    "collapsed": false
   },
   "outputs": [],
   "source": [
    "x = np.random.randn(4)"
   ]
  },
  {
   "cell_type": "code",
   "execution_count": null,
   "metadata": {
    "collapsed": true
   },
   "outputs": [],
   "source": []
  },
  {
   "cell_type": "code",
   "execution_count": 15,
   "metadata": {
    "collapsed": false
   },
   "outputs": [
    {
     "data": {
      "image/png": "[encoded data removed]",
      "text/plain": [
       "<matplotlib.figure.Figure at 0x11556c290>"
      ]
     },
     "metadata": {},
     "output_type": "display_data"
    }
   ],
   "source": [
    "from scipy.stats import multivariate_normal\n",
    "mean = [167, 165]\n",
    "cov = [[6, 0], [0, 6]]\n",
    "#cov = [[1, 0], [0, 1]]\n",
    "x, y = np.random.multivariate_normal(mean, cov, 100).T\n",
    "plt.plot(x, y, 'x')\n",
    "plt.axis('equal')\n",
    "plt.show()"
   ]
  },
  {
   "cell_type": "code",
   "execution_count": 4,
   "metadata": {
    "collapsed": false
   },
   "outputs": [
    {
     "data": {
      "text/plain": [
       "160.16353431597551"
      ]
     },
     "execution_count": 4,
     "metadata": {},
     "output_type": "execute_result"
    }
   ],
   "source": [
    "min(y)"
   ]
  },
  {
   "cell_type": "code",
   "execution_count": 5,
   "metadata": {
    "collapsed": false
   },
   "outputs": [],
   "source": [
    "(x,y,w,h) = (165, 152, 6, 34)\n",
    "(cX,cY) = (167, 165)"
   ]
  },
  {
   "cell_type": "code",
   "execution_count": 6,
   "metadata": {
    "collapsed": false
   },
   "outputs": [
    {
     "data": {
      "text/plain": [
       "6"
      ]
     },
     "execution_count": 6,
     "metadata": {},
     "output_type": "execute_result"
    }
   ],
   "source": [
    "min(w,h)"
   ]
  },
  {
   "cell_type": "code",
   "execution_count": null,
   "metadata": {
    "collapsed": false
   },
   "outputs": [],
   "source": []
  },
  {
   "cell_type": "code",
   "execution_count": null,
   "metadata": {
    "collapsed": true
   },
   "outputs": [],
   "source": []
  },
  {
   "cell_type": "code",
   "execution_count": null,
   "metadata": {
    "collapsed": true
   },
   "outputs": [],
   "source": []
  },
  {
   "cell_type": "code",
   "execution_count": 9,
   "metadata": {
    "collapsed": false
   },
   "outputs": [],
   "source": [
    "center = []\n",
    "for i,j in zip(x,y):\n",
    "    center.append([i,j])\n",
    "#center"
   ]
  },
  {
   "cell_type": "code",
   "execution_count": null,
   "metadata": {
    "collapsed": false
   },
   "outputs": [],
   "source": []
  },
  {
   "cell_type": "code",
   "execution_count": 10,
   "metadata": {
    "collapsed": false
   },
   "outputs": [
    {
     "data": {
      "text/plain": [
       "(255, 0, 0)"
      ]
     },
     "execution_count": 10,
     "metadata": {},
     "output_type": "execute_result"
    }
   ],
   "source": [
    "colors = {\"red\" : (255, 0, 0), \"green\" : (0, 255, 0), \"white\" : (255, 255, 255), \n",
    "          \"blue\" : (0, 0, 255), \"yellow\" : (255, 255, 0) , \"turquoise\" : (0, 255, 255), \"purple\" : (255, 0, 255)}\n",
    "colors[\"red\"]"
   ]
  },
  {
   "cell_type": "code",
   "execution_count": null,
   "metadata": {
    "collapsed": true
   },
   "outputs": [],
   "source": []
  },
  {
   "cell_type": "code",
   "execution_count": null,
   "metadata": {
    "collapsed": true
   },
   "outputs": [],
   "source": []
  },
  {
   "cell_type": "code",
   "execution_count": 13,
   "metadata": {
    "collapsed": false
   },
   "outputs": [],
   "source": [
    "data_particl = [[233.59965658156975, 216.1134573723744, 0, None, None, 0, [1, 0], [0, 0]], [254.27174007613755, 165.5935984889889, 0, None, None, 0, [1, 0], [0, 0]], [220.41464302662308, 219.26273969525349, 0, None, None, 0, [1, 0], [0, 0]], [248.36575143121516, 186.01217202539473, 0, None, None, 0, [1, 0], [0, 0]], [219.45497798592132, 165.20581064296465, 0, None, None, 0, [1, 0], [0, 0]], [269.65745591695145, 175.30277651572004, 0, None, None, 0, [1, 0], [0, 0]], [218.75237824396564, 209.50406769031835, 0, None, None, 0, [1, 0], [0, 0]], [261.48051037692915, 189.98042297079488, 0, None, None, 0, [1, 0], [0, 0]], [224.89500597973216, 152.13375399961572, 0, None, None, 0, [1, 0], [0, 0]], [274.85417404821663, 186.72649758075656, 0, None, None, 0, [1, 0], [0, 0]], [271.07602595723483, 177.51282446693344, 0, None, None, 0, [1, 0], [0, 0]], [277.10626404901404, 176.18905425335879, 0, None, None, 0, [1, 0], [0, 0]], [241.45689067879934, 193.14241784001266, 0, None, None, 0, [1, 0], [0, 0]], [234.33494906800232, 193.57896822102234, 0, None, None, 0, [1, 0], [0, 0]], [244.7515979067752, 185.0203568996146, 0, None, None, 0, [1, 0], [0, 0]], [248.76776881047422, 167.06328899240995, 0, None, None, 0, [1, 0], [0, 0]], [201.60981396303478, 171.03157608333314, 0, None, None, 0, [1, 0], [0, 0]], [223.31563234382051, 187.48347308653686, 0, None, None, 0, [1, 0], [0, 0]], [256.88936623657941, 142.06022186896251, 0, None, None, 0, [1, 0], [0, 0]], [231.63091647911185, 180.33742312624511, 0, None, None, 0, [1, 0], [0, 0]], [250.3026916610267, 169.30735768668933, 0, None, None, 0, [1, 0], [0, 0]], [270.72269669709715, 182.16779833192319, 0, None, None, 0, [1, 0], [0, 0]], [241.42655532185347, 162.7414970047995, 0, None, None, 0, [1, 0], [0, 0]], [273.9665303727536, 170.37676381093888, 0, None, None, 0, [1, 0], [0, 0]], [244.61188158340113, 148.21651754232809, 0, None, None, 0, [1, 0], [0, 0]], [240.14656770570321, 146.31908911218977, 0, None, None, 0, [1, 0], [0, 0]], [233.98344144257391, 171.60665611487187, 0, None, None, 0, [1, 0], [0, 0]], [233.05102682494345, 200.04982003592409, 0, None, None, 0, [1, 0], [0, 0]], [226.85947747971818, 148.4071615284391, 0, None, None, 0, [1, 0], [0, 0]], [261.70139075779832, 197.89534879520284, 0, None, None, 0, [1, 0], [0, 0]], [263.46287945492264, 184.40494974282703, 0, None, None, 0, [1, 0], [0, 0]], [207.4443411616773, 219.47174053848261, 0, None, None, 0, [0, 1], [0, 0]], [268.18334665707539, 152.51055757456058, 0, None, None, 0, [1, 0], [0, 0]], [264.99185383788148, 166.3375565610441, 0, None, None, 0, [1, 0], [0, 0]], [232.16924106408399, 159.30105753458986, 0, None, None, 0, [1, 0], [0, 0]], [248.17633854578858, 176.61859787904601, 0, None, None, 0, [1, 0], [0, 0]], [260.66741117391837, 184.52873339054949, 0, None, None, 0, [1, 0], [0, 0]], [233.99533074314493, 207.37089755793303, 0, None, None, 0, [1, 0], [0, 0]], [256.11213724741748, 188.61954922446722, 0, None, None, 0, [1, 0], [0, 0]], [266.73482784467518, 148.08215172077121, 0, None, None, 0, [1, 0], [0, 0]], [257.41656975147669, 183.15324305521236, 0, None, None, 0, [1, 0], [0, 0]], [250.64784529602724, 202.70847935357992, 0, None, None, 0, [1, 0], [0, 0]], [237.58153954308005, 201.41376978120624, 0, None, None, 0, [1, 0], [0, 0]], [244.30591100678154, 193.97475150535288, 0, None, None, 0, [1, 0], [0, 0]], [269.49535765913163, 175.94479987975856, 0, None, None, 0, [1, 0], [0, 0]], [246.30347262164244, 206.9668809878857, 0, None, None, 0, [1, 0], [0, 0]], [257.01708601661397, 170.49036166783884, 0, None, None, 0, [1, 0], [0, 0]], [245.0989931769202, 174.63473761349101, 0, None, None, 0, [1, 0], [0, 0]], [280.69039487829889, 166.34541255648523, 0, None, None, 0, [1, 0], [0, 0]], [277.76084435644981, 177.09316675979593, 0, None, None, 0, [1, 0], [0, 0]], [250.95660003648172, 173.61317052420074, 0, None, None, 0, [1, 0], [0, 0]], [251.5977805401015, 188.50208248937926, 0, None, None, 0, [1, 0], [0, 0]], [254.25151307028301, 154.31179777503854, 0, None, None, 0, [1, 0], [0, 0]], [264.98965157823852, 197.82388035220234, 0, None, None, 0, [1, 0], [0, 0]], [222.87886160762372, 178.79184649033493, 0, None, None, 0, [1, 0], [0, 0]], [260.4761290000107, 207.31225575897591, 0, None, None, 0, [1, 0], [0, 0]], [252.56766766957344, 185.89230195802594, 0, None, None, 0, [1, 0], [0, 0]], [252.34472950715372, 200.53365434390057, 0, None, None, 0, [1, 0], [0, 0]], [249.21884930105955, 222.56849905931062, 0, None, None, 0, [1, 0], [0, 0]], [242.1289543899351, 160.36337144101856, 0, None, None, 0, [1, 0], [0, 0]], [242.51566339678851, 178.30107556277221, 0, None, None, 0, [1, 0], [0, 0]], [232.36614482767578, 177.30459975354626, 0, None, None, 0, [1, 0], [0, 0]], [259.34512929284585, 183.67912740301492, 0, None, None, 0, [1, 0], [0, 0]], [246.28872288679167, 189.00987658637035, 0, None, None, 0, [1, 0], [0, 0]], [233.75014462022068, 157.40883543129797, 0, None, None, 0, [1, 0], [0, 0]], [235.47069013904635, 225.43728581360736, 0, None, None, 0, [1, 0], [0, 0]], [265.86721980945811, 176.89870131128112, 0, None, None, 0, [1, 0], [0, 0]], [258.77955381062452, 213.20917830978976, 0, None, None, 0, [1, 0], [0, 0]], [257.36092165444694, 213.6582127519336, 0, None, None, 0, [1, 0], [0, 0]], [286.23414187714832, 165.82528781076812, 0, None, None, 0, [1, 0], [0, 0]], [258.76506150430328, 199.65536504117154, 0, None, None, 0, [1, 0], [0, 0]], [259.11237889918874, 200.3413624923561, 0, None, None, 0, [1, 0], [0, 0]], [255.46015523706029, 158.36966368796035, 0, None, None, 0, [1, 0], [0, 0]], [250.13096636893707, 184.09048077235084, 0, None, None, 0, [1, 0], [0, 0]], [237.98181260281848, 160.28273776309865, 0, None, None, 0, [1, 0], [0, 0]], [249.36923338125763, 202.81354094169185, 0, None, None, 0, [1, 0], [0, 0]], [245.4670008573334, 203.52906153938477, 0, None, None, 0, [1, 0], [0, 0]], [248.45214961698031, 184.36388163909453, 0, None, None, 0, [1, 0], [0, 0]], [231.89366456754809, 184.46681404931479, 0, None, None, 0, [1, 0], [0, 0]], [258.48828668550055, 201.04253782331537, 0, None, None, 0, [1, 0], [0, 0]], [225.43575340627081, 201.04953569756231, 0, None, None, 0, [1, 0], [0, 0]], [229.64882677548579, 185.54442009493917, 0, None, None, 0, [1, 0], [0, 0]], [281.79364082250618, 173.24812681668769, 0, None, None, 0, [1, 0], [0, 0]], [201.92908475037677, 182.95837193196644, 0, None, None, 0, [1, 0], [0, 0]], [276.45667317940604, 188.76081661760566, 0, None, None, 0, [1, 0], [0, 0]], [260.49340647033182, 170.79429227373819, 0, None, None, 0, [1, 0], [0, 0]], [245.01546237523937, 172.41920183650439, 0, None, None, 0, [1, 0], [0, 0]], [256.55918740531223, 180.04058065460396, 0, None, None, 0, [1, 0], [0, 0]], [248.09412063550317, 188.27088411634017, 0, None, None, 0, [1, 0], [0, 0]], [281.54786788930869, 176.99535400633565, 0, None, None, 0, [1, 0], [0, 0]], [227.02987927039177, 190.69172087747035, 0, None, None, 0, [1, 0], [0, 0]], [261.4558296523129, 186.2202523030912, 0, None, None, 0, [1, 0], [0, 0]], [198.2910524326582, 162.36896827170696, 0, None, None, 0, [1, 0], [0, 0]], [265.96898835501941, 212.65662802887465, 0, None, None, 0, [1, 0], [0, 0]], [266.12929282908459, 202.02362062295751, 0, None, None, 0, [1, 0], [0, 0]], [298.99027618725279, 207.42381626845389, 0, None, None, 0, [0, 1], [0, 0]], [218.33717066635853, 230.21226979087712, 0, None, None, 0, [0, 1], [0, 0]], [279.61402660398062, 174.61685898426549, 0, None, None, 0, [1, 0], [0, 0]], [260.08904884325818, 194.01279969120071, 0, None, None, 0, [1, 0], [0, 0]], [237.62940724737277, 173.65105963474724, 0, None, None, 0, [1, 0], [0, 0]]]\n",
    "data_detect = [[np.array(1), 249, 187, 1, 1, 499, 374, 0]]"
   ]
  },
  {
   "cell_type": "code",
   "execution_count": 22,
   "metadata": {
    "collapsed": true
   },
   "outputs": [],
   "source": [
    "import itertools\n",
    "list_particl = [[\"p0\"],[\"p1\"],[\"p2\"],[\"p3\"]]\n",
    "list_detect = [[\"d0\"],[\"d1\"]]"
   ]
  },
  {
   "cell_type": "code",
   "execution_count": 28,
   "metadata": {
    "collapsed": false
   },
   "outputs": [
    {
     "data": {
      "text/plain": [
       "[(['p0'], ['d0']),\n",
       " (['p0'], ['d1']),\n",
       " (['p1'], ['d0']),\n",
       " (['p1'], ['d1']),\n",
       " (['p2'], ['d0']),\n",
       " (['p2'], ['d1']),\n",
       " (['p3'], ['d0']),\n",
       " (['p3'], ['d1'])]"
      ]
     },
     "execution_count": 28,
     "metadata": {},
     "output_type": "execute_result"
    }
   ],
   "source": [
    "list(itertools.product(list_particl, list_detect))"
   ]
  },
  {
   "cell_type": "code",
   "execution_count": null,
   "metadata": {
    "collapsed": true
   },
   "outputs": [],
   "source": []
  },
  {
   "cell_type": "code",
   "execution_count": null,
   "metadata": {
    "collapsed": true
   },
   "outputs": [],
   "source": []
  },
  {
   "cell_type": "code",
   "execution_count": 11,
   "metadata": {
    "collapsed": false
   },
   "outputs": [
    {
     "data": {
      "text/plain": [
       "2.8040257739277785"
      ]
     },
     "execution_count": 11,
     "metadata": {},
     "output_type": "execute_result"
    }
   ],
   "source": [
    "d = [detect[0][0],detect[0][1]]\n",
    "p = [particl[0][0],particl[0][1]]\n",
    "ssp.distance.euclidean(d,p)"
   ]
  },
  {
   "cell_type": "code",
   "execution_count": null,
   "metadata": {
    "collapsed": true
   },
   "outputs": [],
   "source": []
  },
  {
   "cell_type": "code",
   "execution_count": null,
   "metadata": {
    "collapsed": true
   },
   "outputs": [],
   "source": []
  },
  {
   "cell_type": "code",
   "execution_count": 11,
   "metadata": {
    "collapsed": false
   },
   "outputs": [],
   "source": [
    "test = dict()\n",
    "#test[\"ok\"] = [3,2,3]\n",
    "#test[\"val\"] = [6,1,22]\n",
    "#test[\"trotro\"] = [5,244,39]\n",
    "for key, val in test.iteritems():\n",
    "    print (key,val)"
   ]
  },
  {
   "cell_type": "code",
   "execution_count": 1,
   "metadata": {
    "collapsed": false
   },
   "outputs": [
    {
     "data": {
      "text/plain": [
       "{1: 'k', 'ok': 'okok'}"
      ]
     },
     "execution_count": 1,
     "metadata": {},
     "output_type": "execute_result"
    }
   ],
   "source": [
    "test2 = dict()\n",
    "test2[\"ok\"] = \"okok\"\n",
    "test2[len(test2)] = \"k\"\n",
    "len(test2)\n",
    "test2"
   ]
  },
  {
   "cell_type": "code",
   "execution_count": null,
   "metadata": {
    "collapsed": false
   },
   "outputs": [],
   "source": []
  },
  {
   "cell_type": "code",
   "execution_count": 17,
   "metadata": {
    "collapsed": false
   },
   "outputs": [
    {
     "name": "stdout",
     "output_type": "stream",
     "text": [
      "(255, 0, 0)\n"
     ]
    }
   ],
   "source": [
    "import random\n",
    "rgbl=[255,0,0]\n",
    "random.shuffle(rgbl)\n",
    "print tuple(rgbl)"
   ]
  },
  {
   "cell_type": "code",
   "execution_count": null,
   "metadata": {
    "collapsed": false
   },
   "outputs": [],
   "source": []
  },
  {
   "cell_type": "code",
   "execution_count": 31,
   "metadata": {
    "collapsed": false
   },
   "outputs": [
    {
     "data": {
      "text/plain": [
       "2.8284271247461903"
      ]
     },
     "execution_count": 31,
     "metadata": {},
     "output_type": "execute_result"
    }
   ],
   "source": [
    "a = 2\n",
    "b = 3\n",
    "c = 4\n",
    "d = 5\n",
    "ssp.distance.cdist([(a,b)],[(c,d)],'euclidean')[0][0]"
   ]
  },
  {
   "cell_type": "code",
   "execution_count": 46,
   "metadata": {
    "collapsed": false
   },
   "outputs": [
    {
     "data": {
      "text/plain": [
       "1"
      ]
     },
     "execution_count": 46,
     "metadata": {},
     "output_type": "execute_result"
    }
   ],
   "source": [
    "#candidate = [[9,1],[5,6],[7,8]]\n",
    "candidate = [9,5,8]\n",
    "candidate.index(min(candidate))"
   ]
  },
  {
   "cell_type": "code",
   "execution_count": null,
   "metadata": {
    "collapsed": false
   },
   "outputs": [],
   "source": []
  },
  {
   "cell_type": "code",
   "execution_count": 3,
   "metadata": {
    "collapsed": false
   },
   "outputs": [
    {
     "data": {
      "text/plain": [
       "0"
      ]
     },
     "execution_count": 3,
     "metadata": {},
     "output_type": "execute_result"
    }
   ],
   "source": [
    "lolol = [1,5,1,7]\n",
    "lolol.index(min(lolol))"
   ]
  },
  {
   "cell_type": "code",
   "execution_count": null,
   "metadata": {
    "collapsed": true
   },
   "outputs": [],
   "source": []
  },
  {
   "cell_type": "code",
   "execution_count": null,
   "metadata": {
    "collapsed": true
   },
   "outputs": [],
   "source": []
  },
  {
   "cell_type": "code",
   "execution_count": null,
   "metadata": {
    "collapsed": true
   },
   "outputs": [],
   "source": []
  }
 ],
 "metadata": {
  "anaconda-cloud": {},
  "kernelspec": {
   "display_name": "Python [Root]",
   "language": "python",
   "name": "Python [Root]"
  },
  "language_info": {
   "codemirror_mode": {
    "name": "ipython",
    "version": 2
   },
   "file_extension": ".py",
   "mimetype": "text/x-python",
   "name": "python",
   "nbconvert_exporter": "python",
   "pygments_lexer": "ipython2",
   "version": "2.7.11"
  }
 },
 "nbformat": 4,
 "nbformat_minor": 0
}
