{
 "cells": [
  {
   "cell_type": "code",
   "execution_count": 1,
   "metadata": {
    "collapsed": false
   },
   "outputs": [],
   "source": [
    "import numpy as np\n",
    "import pandas as pd\n",
    "import cv2\n",
    "import os"
   ]
  },
  {
   "cell_type": "code",
   "execution_count": 2,
   "metadata": {
    "collapsed": false
   },
   "outputs": [],
   "source": [
    "import scipy.stats as ss\n",
    "import scipy.spatial as ssp\n",
    "import numpy as np\n",
    "import matplotlib as mpl\n",
    "import matplotlib.pyplot as plt\n",
    "%matplotlib inline"
   ]
  },
  {
   "cell_type": "code",
   "execution_count": null,
   "metadata": {
    "collapsed": true
   },
   "outputs": [],
   "source": [
    "x = np.arange(-10, 11)\n",
    "xU, xL = x + 0.5, x - 0.5 \n",
    "prob = ss.norm.cdf(xU, scale = 3) - ss.norm.cdf(xL, scale = 3)\n",
    "prob = prob / prob.sum() #normalize the probabilities so their sum is 1\n",
    "nums = np.random.choice(x, size = 10000, p = prob)\n",
    "plt.hist(nums, bins = len(x))"
   ]
  },
  {
   "cell_type": "code",
   "execution_count": 4,
   "metadata": {
    "collapsed": false
   },
   "outputs": [
    {
     "data": {
      "text/plain": [
       "array([-0.15351167, -0.28375904,  2.56388385,  2.95434285])"
      ]
     },
     "execution_count": 4,
     "metadata": {},
     "output_type": "execute_result"
    }
   ],
   "source": [
    "np.random.randn(4)"
   ]
  },
  {
   "cell_type": "code",
   "execution_count": null,
   "metadata": {
    "collapsed": true
   },
   "outputs": [],
   "source": []
  },
  {
   "cell_type": "code",
   "execution_count": 3,
   "metadata": {
    "collapsed": false
   },
   "outputs": [
    {
     "data": {
      "image/png": "[encoded data removed]",
      "text/plain": [
       "<matplotlib.figure.Figure at 0x114acb6d0>"
      ]
     },
     "metadata": {},
     "output_type": "display_data"
    }
   ],
   "source": [
    "from scipy.stats import multivariate_normal\n",
    "mean = [167, 165]\n",
    "cov = [[6, 0], [0, 6]]\n",
    "#cov = [[1, 0], [0, 1]]\n",
    "x, y = np.random.multivariate_normal(mean, cov, 100).T\n",
    "plt.plot(x, y, 'x')\n",
    "plt.axis('equal')\n",
    "plt.show()"
   ]
  },
  {
   "cell_type": "code",
   "execution_count": 4,
   "metadata": {
    "collapsed": false
   },
   "outputs": [
    {
     "data": {
      "text/plain": [
       "158.95306971834043"
      ]
     },
     "execution_count": 4,
     "metadata": {},
     "output_type": "execute_result"
    }
   ],
   "source": [
    "min(y)"
   ]
  },
  {
   "cell_type": "code",
   "execution_count": 5,
   "metadata": {
    "collapsed": false
   },
   "outputs": [],
   "source": [
    "(x,y,w,h) = (165, 152, 6, 34)\n",
    "(cX,cY) = (167, 165)"
   ]
  },
  {
   "cell_type": "code",
   "execution_count": 6,
   "metadata": {
    "collapsed": false
   },
   "outputs": [
    {
     "data": {
      "text/plain": [
       "6"
      ]
     },
     "execution_count": 6,
     "metadata": {},
     "output_type": "execute_result"
    }
   ],
   "source": [
    "min(w,h)"
   ]
  },
  {
   "cell_type": "code",
   "execution_count": null,
   "metadata": {
    "collapsed": false
   },
   "outputs": [],
   "source": []
  },
  {
   "cell_type": "code",
   "execution_count": null,
   "metadata": {
    "collapsed": true
   },
   "outputs": [],
   "source": []
  },
  {
   "cell_type": "code",
   "execution_count": null,
   "metadata": {
    "collapsed": true
   },
   "outputs": [],
   "source": []
  },
  {
   "cell_type": "code",
   "execution_count": 9,
   "metadata": {
    "collapsed": false
   },
   "outputs": [],
   "source": [
    "center = []\n",
    "for i,j in zip(x,y):\n",
    "    center.append([i,j])\n",
    "#center"
   ]
  },
  {
   "cell_type": "code",
   "execution_count": null,
   "metadata": {
    "collapsed": false
   },
   "outputs": [],
   "source": []
  },
  {
   "cell_type": "code",
   "execution_count": 10,
   "metadata": {
    "collapsed": false
   },
   "outputs": [
    {
     "data": {
      "text/plain": [
       "(255, 0, 0)"
      ]
     },
     "execution_count": 10,
     "metadata": {},
     "output_type": "execute_result"
    }
   ],
   "source": [
    "colors = {\"red\" : (255, 0, 0), \"green\" : (0, 255, 0), \"white\" : (255, 255, 255), \n",
    "          \"blue\" : (0, 0, 255), \"yellow\" : (255, 255, 0) , \"turquoise\" : (0, 255, 255), \"purple\" : (255, 0, 255)}\n",
    "colors[\"red\"]"
   ]
  },
  {
   "cell_type": "code",
   "execution_count": null,
   "metadata": {
    "collapsed": true
   },
   "outputs": [],
   "source": []
  },
  {
   "cell_type": "code",
   "execution_count": null,
   "metadata": {
    "collapsed": true
   },
   "outputs": [],
   "source": []
  },
  {
   "cell_type": "code",
   "execution_count": 13,
   "metadata": {
    "collapsed": false
   },
   "outputs": [],
   "source": [
    "data_particl = [[233.59965658156975, 216.1134573723744, 0, None, None, 0, [1, 0], [0, 0]], [254.27174007613755, 165.5935984889889, 0, None, None, 0, [1, 0], [0, 0]], [220.41464302662308, 219.26273969525349, 0, None, None, 0, [1, 0], [0, 0]], [248.36575143121516, 186.01217202539473, 0, None, None, 0, [1, 0], [0, 0]], [219.45497798592132, 165.20581064296465, 0, None, None, 0, [1, 0], [0, 0]], [269.65745591695145, 175.30277651572004, 0, None, None, 0, [1, 0], [0, 0]], [218.75237824396564, 209.50406769031835, 0, None, None, 0, [1, 0], [0, 0]], [261.48051037692915, 189.98042297079488, 0, None, None, 0, [1, 0], [0, 0]], [224.89500597973216, 152.13375399961572, 0, None, None, 0, [1, 0], [0, 0]], [274.85417404821663, 186.72649758075656, 0, None, None, 0, [1, 0], [0, 0]], [271.07602595723483, 177.51282446693344, 0, None, None, 0, [1, 0], [0, 0]], [277.10626404901404, 176.18905425335879, 0, None, None, 0, [1, 0], [0, 0]], [241.45689067879934, 193.14241784001266, 0, None, None, 0, [1, 0], [0, 0]], [234.33494906800232, 193.57896822102234, 0, None, None, 0, [1, 0], [0, 0]], [244.7515979067752, 185.0203568996146, 0, None, None, 0, [1, 0], [0, 0]], [248.76776881047422, 167.06328899240995, 0, None, None, 0, [1, 0], [0, 0]], [201.60981396303478, 171.03157608333314, 0, None, None, 0, [1, 0], [0, 0]], [223.31563234382051, 187.48347308653686, 0, None, None, 0, [1, 0], [0, 0]], [256.88936623657941, 142.06022186896251, 0, None, None, 0, [1, 0], [0, 0]], [231.63091647911185, 180.33742312624511, 0, None, None, 0, [1, 0], [0, 0]], [250.3026916610267, 169.30735768668933, 0, None, None, 0, [1, 0], [0, 0]], [270.72269669709715, 182.16779833192319, 0, None, None, 0, [1, 0], [0, 0]], [241.42655532185347, 162.7414970047995, 0, None, None, 0, [1, 0], [0, 0]], [273.9665303727536, 170.37676381093888, 0, None, None, 0, [1, 0], [0, 0]], [244.61188158340113, 148.21651754232809, 0, None, None, 0, [1, 0], [0, 0]], [240.14656770570321, 146.31908911218977, 0, None, None, 0, [1, 0], [0, 0]], [233.98344144257391, 171.60665611487187, 0, None, None, 0, [1, 0], [0, 0]], [233.05102682494345, 200.04982003592409, 0, None, None, 0, [1, 0], [0, 0]], [226.85947747971818, 148.4071615284391, 0, None, None, 0, [1, 0], [0, 0]], [261.70139075779832, 197.89534879520284, 0, None, None, 0, [1, 0], [0, 0]], [263.46287945492264, 184.40494974282703, 0, None, None, 0, [1, 0], [0, 0]], [207.4443411616773, 219.47174053848261, 0, None, None, 0, [0, 1], [0, 0]], [268.18334665707539, 152.51055757456058, 0, None, None, 0, [1, 0], [0, 0]], [264.99185383788148, 166.3375565610441, 0, None, None, 0, [1, 0], [0, 0]], [232.16924106408399, 159.30105753458986, 0, None, None, 0, [1, 0], [0, 0]], [248.17633854578858, 176.61859787904601, 0, None, None, 0, [1, 0], [0, 0]], [260.66741117391837, 184.52873339054949, 0, None, None, 0, [1, 0], [0, 0]], [233.99533074314493, 207.37089755793303, 0, None, None, 0, [1, 0], [0, 0]], [256.11213724741748, 188.61954922446722, 0, None, None, 0, [1, 0], [0, 0]], [266.73482784467518, 148.08215172077121, 0, None, None, 0, [1, 0], [0, 0]], [257.41656975147669, 183.15324305521236, 0, None, None, 0, [1, 0], [0, 0]], [250.64784529602724, 202.70847935357992, 0, None, None, 0, [1, 0], [0, 0]], [237.58153954308005, 201.41376978120624, 0, None, None, 0, [1, 0], [0, 0]], [244.30591100678154, 193.97475150535288, 0, None, None, 0, [1, 0], [0, 0]], [269.49535765913163, 175.94479987975856, 0, None, None, 0, [1, 0], [0, 0]], [246.30347262164244, 206.9668809878857, 0, None, None, 0, [1, 0], [0, 0]], [257.01708601661397, 170.49036166783884, 0, None, None, 0, [1, 0], [0, 0]], [245.0989931769202, 174.63473761349101, 0, None, None, 0, [1, 0], [0, 0]], [280.69039487829889, 166.34541255648523, 0, None, None, 0, [1, 0], [0, 0]], [277.76084435644981, 177.09316675979593, 0, None, None, 0, [1, 0], [0, 0]], [250.95660003648172, 173.61317052420074, 0, None, None, 0, [1, 0], [0, 0]], [251.5977805401015, 188.50208248937926, 0, None, None, 0, [1, 0], [0, 0]], [254.25151307028301, 154.31179777503854, 0, None, None, 0, [1, 0], [0, 0]], [264.98965157823852, 197.82388035220234, 0, None, None, 0, [1, 0], [0, 0]], [222.87886160762372, 178.79184649033493, 0, None, None, 0, [1, 0], [0, 0]], [260.4761290000107, 207.31225575897591, 0, None, None, 0, [1, 0], [0, 0]], [252.56766766957344, 185.89230195802594, 0, None, None, 0, [1, 0], [0, 0]], [252.34472950715372, 200.53365434390057, 0, None, None, 0, [1, 0], [0, 0]], [249.21884930105955, 222.56849905931062, 0, None, None, 0, [1, 0], [0, 0]], [242.1289543899351, 160.36337144101856, 0, None, None, 0, [1, 0], [0, 0]], [242.51566339678851, 178.30107556277221, 0, None, None, 0, [1, 0], [0, 0]], [232.36614482767578, 177.30459975354626, 0, None, None, 0, [1, 0], [0, 0]], [259.34512929284585, 183.67912740301492, 0, None, None, 0, [1, 0], [0, 0]], [246.28872288679167, 189.00987658637035, 0, None, None, 0, [1, 0], [0, 0]], [233.75014462022068, 157.40883543129797, 0, None, None, 0, [1, 0], [0, 0]], [235.47069013904635, 225.43728581360736, 0, None, None, 0, [1, 0], [0, 0]], [265.86721980945811, 176.89870131128112, 0, None, None, 0, [1, 0], [0, 0]], [258.77955381062452, 213.20917830978976, 0, None, None, 0, [1, 0], [0, 0]], [257.36092165444694, 213.6582127519336, 0, None, None, 0, [1, 0], [0, 0]], [286.23414187714832, 165.82528781076812, 0, None, None, 0, [1, 0], [0, 0]], [258.76506150430328, 199.65536504117154, 0, None, None, 0, [1, 0], [0, 0]], [259.11237889918874, 200.3413624923561, 0, None, None, 0, [1, 0], [0, 0]], [255.46015523706029, 158.36966368796035, 0, None, None, 0, [1, 0], [0, 0]], [250.13096636893707, 184.09048077235084, 0, None, None, 0, [1, 0], [0, 0]], [237.98181260281848, 160.28273776309865, 0, None, None, 0, [1, 0], [0, 0]], [249.36923338125763, 202.81354094169185, 0, None, None, 0, [1, 0], [0, 0]], [245.4670008573334, 203.52906153938477, 0, None, None, 0, [1, 0], [0, 0]], [248.45214961698031, 184.36388163909453, 0, None, None, 0, [1, 0], [0, 0]], [231.89366456754809, 184.46681404931479, 0, None, None, 0, [1, 0], [0, 0]], [258.48828668550055, 201.04253782331537, 0, None, None, 0, [1, 0], [0, 0]], [225.43575340627081, 201.04953569756231, 0, None, None, 0, [1, 0], [0, 0]], [229.64882677548579, 185.54442009493917, 0, None, None, 0, [1, 0], [0, 0]], [281.79364082250618, 173.24812681668769, 0, None, None, 0, [1, 0], [0, 0]], [201.92908475037677, 182.95837193196644, 0, None, None, 0, [1, 0], [0, 0]], [276.45667317940604, 188.76081661760566, 0, None, None, 0, [1, 0], [0, 0]], [260.49340647033182, 170.79429227373819, 0, None, None, 0, [1, 0], [0, 0]], [245.01546237523937, 172.41920183650439, 0, None, None, 0, [1, 0], [0, 0]], [256.55918740531223, 180.04058065460396, 0, None, None, 0, [1, 0], [0, 0]], [248.09412063550317, 188.27088411634017, 0, None, None, 0, [1, 0], [0, 0]], [281.54786788930869, 176.99535400633565, 0, None, None, 0, [1, 0], [0, 0]], [227.02987927039177, 190.69172087747035, 0, None, None, 0, [1, 0], [0, 0]], [261.4558296523129, 186.2202523030912, 0, None, None, 0, [1, 0], [0, 0]], [198.2910524326582, 162.36896827170696, 0, None, None, 0, [1, 0], [0, 0]], [265.96898835501941, 212.65662802887465, 0, None, None, 0, [1, 0], [0, 0]], [266.12929282908459, 202.02362062295751, 0, None, None, 0, [1, 0], [0, 0]], [298.99027618725279, 207.42381626845389, 0, None, None, 0, [0, 1], [0, 0]], [218.33717066635853, 230.21226979087712, 0, None, None, 0, [0, 1], [0, 0]], [279.61402660398062, 174.61685898426549, 0, None, None, 0, [1, 0], [0, 0]], [260.08904884325818, 194.01279969120071, 0, None, None, 0, [1, 0], [0, 0]], [237.62940724737277, 173.65105963474724, 0, None, None, 0, [1, 0], [0, 0]]]\n",
    "data_detect = [[np.array(1), 249, 187, 1, 1, 499, 374, 0]]"
   ]
  },
  {
   "cell_type": "code",
   "execution_count": 34,
   "metadata": {
    "collapsed": true
   },
   "outputs": [],
   "source": [
    "import itertools\n",
    "list_particl = [[\"p0\"],[\"p1\"],[\"p2\"],[\"p3\"]]\n",
    "list_detect = [[\"d0\",1,1],[\"d1\",2,2]]"
   ]
  },
  {
   "cell_type": "code",
   "execution_count": 35,
   "metadata": {
    "collapsed": false
   },
   "outputs": [
    {
     "name": "stdout",
     "output_type": "stream",
     "text": [
      "0\n",
      "1\n",
      "0\n",
      "1\n",
      "0\n",
      "1\n",
      "0\n",
      "1\n"
     ]
    }
   ],
   "source": [
    "for part, detect in list(itertools.product(list_particl, list_detect)):\n",
    "    print list_detect.index(detect)"
   ]
  },
  {
   "cell_type": "code",
   "execution_count": null,
   "metadata": {
    "collapsed": true
   },
   "outputs": [],
   "source": []
  },
  {
   "cell_type": "code",
   "execution_count": null,
   "metadata": {
    "collapsed": true
   },
   "outputs": [],
   "source": []
  },
  {
   "cell_type": "code",
   "execution_count": 11,
   "metadata": {
    "collapsed": false
   },
   "outputs": [
    {
     "data": {
      "text/plain": [
       "2.8040257739277785"
      ]
     },
     "execution_count": 11,
     "metadata": {},
     "output_type": "execute_result"
    }
   ],
   "source": [
    "d = [detect[0][0],detect[0][1]]\n",
    "p = [particl[0][0],particl[0][1]]\n",
    "ssp.distance.euclidean(d,p)"
   ]
  },
  {
   "cell_type": "code",
   "execution_count": null,
   "metadata": {
    "collapsed": true
   },
   "outputs": [],
   "source": []
  },
  {
   "cell_type": "code",
   "execution_count": null,
   "metadata": {
    "collapsed": true
   },
   "outputs": [],
   "source": []
  },
  {
   "cell_type": "code",
   "execution_count": 11,
   "metadata": {
    "collapsed": false
   },
   "outputs": [],
   "source": [
    "test = dict()\n",
    "#test[\"ok\"] = [3,2,3]\n",
    "#test[\"val\"] = [6,1,22]\n",
    "#test[\"trotro\"] = [5,244,39]\n",
    "for key, val in test.iteritems():\n",
    "    print (key,val)"
   ]
  },
  {
   "cell_type": "code",
   "execution_count": 1,
   "metadata": {
    "collapsed": false
   },
   "outputs": [
    {
     "data": {
      "text/plain": [
       "{1: 'k', 'ok': 'okok'}"
      ]
     },
     "execution_count": 1,
     "metadata": {},
     "output_type": "execute_result"
    }
   ],
   "source": [
    "test2 = dict()\n",
    "test2[\"ok\"] = \"okok\"\n",
    "test2[len(test2)] = \"k\"\n",
    "len(test2)\n",
    "test2"
   ]
  },
  {
   "cell_type": "code",
   "execution_count": null,
   "metadata": {
    "collapsed": false
   },
   "outputs": [],
   "source": []
  },
  {
   "cell_type": "code",
   "execution_count": 42,
   "metadata": {
    "collapsed": false
   },
   "outputs": [
    {
     "name": "stdout",
     "output_type": "stream",
     "text": [
      "(0, 0, 255)\n"
     ]
    }
   ],
   "source": [
    "import random\n",
    "rgbl=[255,0,0]\n",
    "random.shuffle(rgbl)\n",
    "print tuple(rgbl)"
   ]
  },
  {
   "cell_type": "code",
   "execution_count": null,
   "metadata": {
    "collapsed": false
   },
   "outputs": [],
   "source": []
  },
  {
   "cell_type": "code",
   "execution_count": 31,
   "metadata": {
    "collapsed": false
   },
   "outputs": [
    {
     "data": {
      "text/plain": [
       "2.8284271247461903"
      ]
     },
     "execution_count": 31,
     "metadata": {},
     "output_type": "execute_result"
    }
   ],
   "source": [
    "a = 2\n",
    "b = 3\n",
    "c = 4\n",
    "d = 5\n",
    "ssp.distance.cdist([(a,b)],[(c,d)],'euclidean')[0][0]"
   ]
  },
  {
   "cell_type": "code",
   "execution_count": 46,
   "metadata": {
    "collapsed": false
   },
   "outputs": [
    {
     "data": {
      "text/plain": [
       "1"
      ]
     },
     "execution_count": 46,
     "metadata": {},
     "output_type": "execute_result"
    }
   ],
   "source": [
    "#candidate = [[9,1],[5,6],[7,8]]\n",
    "candidate = [9,5,8]\n",
    "candidate.index(min(candidate))"
   ]
  },
  {
   "cell_type": "code",
   "execution_count": null,
   "metadata": {
    "collapsed": false
   },
   "outputs": [],
   "source": []
  },
  {
   "cell_type": "code",
   "execution_count": 3,
   "metadata": {
    "collapsed": false
   },
   "outputs": [
    {
     "data": {
      "text/plain": [
       "0"
      ]
     },
     "execution_count": 3,
     "metadata": {},
     "output_type": "execute_result"
    }
   ],
   "source": [
    "lolol = [1,5,1,7]\n",
    "lolol.index(min(lolol))"
   ]
  },
  {
   "cell_type": "code",
   "execution_count": null,
   "metadata": {
    "collapsed": true
   },
   "outputs": [],
   "source": []
  },
  {
   "cell_type": "code",
   "execution_count": null,
   "metadata": {
    "collapsed": true
   },
   "outputs": [],
   "source": []
  },
  {
   "cell_type": "code",
   "execution_count": 21,
   "metadata": {
    "collapsed": false
   },
   "outputs": [
    {
     "data": {
      "text/plain": [
       "5.2e-05"
      ]
     },
     "execution_count": 21,
     "metadata": {},
     "output_type": "execute_result"
    }
   ],
   "source": [
    "import datetime\n",
    "ts = datetime.datetime.now()\n",
    "tf = datetime.datetime.now()\n",
    "delta = tf-ts\n",
    "delta.total_seconds()"
   ]
  },
  {
   "cell_type": "code",
   "execution_count": null,
   "metadata": {
    "collapsed": false
   },
   "outputs": [],
   "source": []
  },
  {
   "cell_type": "code",
   "execution_count": null,
   "metadata": {
    "collapsed": true
   },
   "outputs": [],
   "source": []
  },
  {
   "cell_type": "code",
   "execution_count": 16,
   "metadata": {
    "collapsed": false
   },
   "outputs": [
    {
     "data": {
      "text/plain": [
       "0.4082482904638631"
      ]
     },
     "execution_count": 16,
     "metadata": {},
     "output_type": "execute_result"
    }
   ],
   "source": [
    "import math\n",
    "p = [[_,0,0,_],[_,1,0,_]]\n",
    "vector = [1,1]\n",
    "distance_p_vector = (abs(vector[0]*p[1][1] + vector[1]*p[1][2]))/math.sqrt((vector[0]^2)+(vector[1]^2))\n",
    "distance_p_vector"
   ]
  },
  {
   "cell_type": "code",
   "execution_count": null,
   "metadata": {
    "collapsed": false
   },
   "outputs": [],
   "source": []
  },
  {
   "cell_type": "code",
   "execution_count": null,
   "metadata": {
    "collapsed": true
   },
   "outputs": [],
   "source": []
  },
  {
   "cell_type": "code",
   "execution_count": 37,
   "metadata": {
    "collapsed": false
   },
   "outputs": [
    {
     "data": {
      "text/plain": [
       "[60.5, 70.5]"
      ]
     },
     "execution_count": 37,
     "metadata": {},
     "output_type": "execute_result"
    }
   ],
   "source": [
    "old_position = [10, 50]\n",
    "old_velocity = [60, 70]\n",
    "noise_position = 4\n",
    "noise_velocity = 0.5\n",
    "timestamp = 0.18\n",
    "np.random.normal(0,0.01)\n",
    "[old_position[0] + old_velocity[0] * timestamp + noise_position , old_position[1] + old_velocity[1] * timestamp + noise_position]\n",
    "[old_velocity[0] + noise_velocity , old_velocity[1] + noise_velocity]"
   ]
  },
  {
   "cell_type": "code",
   "execution_count": null,
   "metadata": {
    "collapsed": false
   },
   "outputs": [],
   "source": []
  },
  {
   "cell_type": "code",
   "execution_count": null,
   "metadata": {
    "collapsed": true
   },
   "outputs": [],
   "source": []
  },
  {
   "cell_type": "code",
   "execution_count": 58,
   "metadata": {
    "collapsed": false
   },
   "outputs": [],
   "source": [
    "trop = [2,4,6]\n",
    "for i in trop:\n",
    "    new_i = [i,i,i]\n",
    "    trop[trop.index(i)] = new_i"
   ]
  },
  {
   "cell_type": "code",
   "execution_count": 59,
   "metadata": {
    "collapsed": false
   },
   "outputs": [
    {
     "data": {
      "text/plain": [
       "[[2, 2, 2], [4, 4, 4], [6, 6, 6]]"
      ]
     },
     "execution_count": 59,
     "metadata": {},
     "output_type": "execute_result"
    }
   ],
   "source": [
    "trop"
   ]
  },
  {
   "cell_type": "code",
   "execution_count": 50,
   "metadata": {
    "collapsed": false
   },
   "outputs": [
    {
     "data": {
      "text/plain": [
       "[[2, 2, 2], [4, 4, 4], [6, 6, 6]]"
      ]
     },
     "execution_count": 50,
     "metadata": {},
     "output_type": "execute_result"
    }
   ],
   "source": [
    "trop = [2,4,6]\n",
    "[[i,i,i] for i in trop]"
   ]
  },
  {
   "cell_type": "code",
   "execution_count": null,
   "metadata": {
    "collapsed": false
   },
   "outputs": [],
   "source": []
  },
  {
   "cell_type": "code",
   "execution_count": null,
   "metadata": {
    "collapsed": true
   },
   "outputs": [],
   "source": []
  },
  {
   "cell_type": "code",
   "execution_count": 9,
   "metadata": {
    "collapsed": false
   },
   "outputs": [
    {
     "data": {
      "text/plain": [
       "-0.043538161530890004"
      ]
     },
     "execution_count": 9,
     "metadata": {},
     "output_type": "execute_result"
    }
   ],
   "source": [
    "np.random.normal(0,0.1)"
   ]
  },
  {
   "cell_type": "code",
   "execution_count": null,
   "metadata": {
    "collapsed": false
   },
   "outputs": [],
   "source": []
  },
  {
   "cell_type": "code",
   "execution_count": null,
   "metadata": {
    "collapsed": true
   },
   "outputs": [],
   "source": []
  },
  {
   "cell_type": "code",
   "execution_count": 26,
   "metadata": {
    "collapsed": false
   },
   "outputs": [
    {
     "name": "stdout",
     "output_type": "stream",
     "text": [
      "ok [20, 2]\n",
      "[20, 2]\n",
      "ok [30, 2]\n"
     ]
    }
   ],
   "source": [
    "group = 2\n",
    "current = [30,2]\n",
    "liste = [[10,1],[20,2],[30,2],[40,1]]\n",
    "for i in liste:\n",
    "    if i[1] == group:\n",
    "        print \"ok\",i\n",
    "    if i[1] == group and liste.index(i) < liste.index(current):\n",
    "        print i    "
   ]
  },
  {
   "cell_type": "code",
   "execution_count": 18,
   "metadata": {
    "collapsed": false
   },
   "outputs": [
    {
     "data": {
      "text/plain": [
       "-0.21241624745886825"
      ]
     },
     "execution_count": 18,
     "metadata": {},
     "output_type": "execute_result"
    }
   ],
   "source": [
    "size_tracker = 5\n",
    "size_detection = 10\n",
    "np.random.normal(0,abs(size_tracker - size_detection) / float(size_tracker))"
   ]
  },
  {
   "cell_type": "code",
   "execution_count": null,
   "metadata": {
    "collapsed": true
   },
   "outputs": [],
   "source": []
  },
  {
   "cell_type": "code",
   "execution_count": null,
   "metadata": {
    "collapsed": true
   },
   "outputs": [],
   "source": []
  },
  {
   "cell_type": "code",
   "execution_count": 12,
   "metadata": {
    "collapsed": false
   },
   "outputs": [
    {
     "data": {
      "text/plain": [
       "1"
      ]
     },
     "execution_count": 12,
     "metadata": {},
     "output_type": "execute_result"
    }
   ],
   "source": [
    "save_detection = [[3,4,2],[33,22,11],[55,90,88]]\n",
    "to_test = [33,22,11]\n",
    "save_detection.index(to_test)"
   ]
  },
  {
   "cell_type": "code",
   "execution_count": null,
   "metadata": {
    "collapsed": false
   },
   "outputs": [],
   "source": []
  },
  {
   "cell_type": "code",
   "execution_count": null,
   "metadata": {
    "collapsed": true
   },
   "outputs": [],
   "source": []
  },
  {
   "cell_type": "code",
   "execution_count": null,
   "metadata": {
    "collapsed": true
   },
   "outputs": [],
   "source": []
  },
  {
   "cell_type": "code",
   "execution_count": 36,
   "metadata": {
    "collapsed": false
   },
   "outputs": [],
   "source": [
    "liste = [[10,1],[20,2],[30,2],[40,1]]"
   ]
  },
  {
   "cell_type": "code",
   "execution_count": 26,
   "metadata": {
    "collapsed": false
   },
   "outputs": [
    {
     "data": {
      "text/plain": [
       "[[10, 1], [20, 2]]"
      ]
     },
     "execution_count": 26,
     "metadata": {},
     "output_type": "execute_result"
    }
   ],
   "source": [
    "save_particles = [[[10,1],[20,2]] , [[30,2],[50,5]]]\n",
    "save_particles[0]"
   ]
  },
  {
   "cell_type": "code",
   "execution_count": 27,
   "metadata": {
    "collapsed": false
   },
   "outputs": [
    {
     "data": {
      "text/plain": [
       "1"
      ]
     },
     "execution_count": 27,
     "metadata": {},
     "output_type": "execute_result"
    }
   ],
   "source": [
    "save_particles.index([[30,2],[50,5]])"
   ]
  },
  {
   "cell_type": "code",
   "execution_count": null,
   "metadata": {
    "collapsed": true
   },
   "outputs": [],
   "source": []
  },
  {
   "cell_type": "code",
   "execution_count": 4,
   "metadata": {
    "collapsed": true
   },
   "outputs": [],
   "source": [
    "dg = {0: [], 1: [[20,21,22,1]]}\n",
    "dg2 = {0:[]}"
   ]
  },
  {
   "cell_type": "code",
   "execution_count": 5,
   "metadata": {
    "collapsed": false
   },
   "outputs": [],
   "source": [
    "dg[0].append([10,11,12,0])\n",
    "dg[0].append([40,41,42,0])"
   ]
  },
  {
   "cell_type": "code",
   "execution_count": 6,
   "metadata": {
    "collapsed": false
   },
   "outputs": [
    {
     "data": {
      "text/plain": [
       "{0: [[10, 11, 12, 0], [40, 41, 42, 0]], 1: [[20, 21, 22, 1]]}"
      ]
     },
     "execution_count": 6,
     "metadata": {},
     "output_type": "execute_result"
    }
   ],
   "source": [
    "dg"
   ]
  },
  {
   "cell_type": "code",
   "execution_count": 7,
   "metadata": {
    "collapsed": false
   },
   "outputs": [
    {
     "name": "stdout",
     "output_type": "stream",
     "text": [
      "[[10, 11, 12, 0], [40, 41, 42, 0]]\n",
      "[[20, 21, 22, 1]]\n"
     ]
    }
   ],
   "source": [
    "for j in dg.values():\n",
    "    print j"
   ]
  },
  {
   "cell_type": "code",
   "execution_count": 8,
   "metadata": {
    "collapsed": false
   },
   "outputs": [],
   "source": [
    "from itertools import chain\n",
    "for i in list(chain.from_iterable(dg.values())):\n",
    "    if i[1] > 15:\n",
    "        dg[i[3]].remove(i)"
   ]
  },
  {
   "cell_type": "code",
   "execution_count": 9,
   "metadata": {
    "collapsed": false
   },
   "outputs": [
    {
     "name": "stdout",
     "output_type": "stream",
     "text": [
      "{0: [[10, 11, 12, 0]], 1: []}\n"
     ]
    }
   ],
   "source": [
    "dg3 = dict()\n",
    "dg3=dg\n",
    "print dg3"
   ]
  },
  {
   "cell_type": "code",
   "execution_count": 34,
   "metadata": {
    "collapsed": false
   },
   "outputs": [],
   "source": [
    "for key,val in dg2.iteritems():\n",
    "    max_val = None\n",
    "    if val != []:\n",
    "        for i in val:\n",
    "            if i[2] > max_val:\n",
    "                max_val = i[2]\n",
    "        dg2[key] = i"
   ]
  },
  {
   "cell_type": "code",
   "execution_count": 21,
   "metadata": {
    "collapsed": false
   },
   "outputs": [
    {
     "data": {
      "text/plain": [
       "{0: [40, 41, 42], 1: [20, 21, 22]}"
      ]
     },
     "execution_count": 21,
     "metadata": {},
     "output_type": "execute_result"
    }
   ],
   "source": [
    "dg"
   ]
  },
  {
   "cell_type": "code",
   "execution_count": null,
   "metadata": {
    "collapsed": true
   },
   "outputs": [],
   "source": []
  },
  {
   "cell_type": "code",
   "execution_count": 42,
   "metadata": {
    "collapsed": false
   },
   "outputs": [
    {
     "data": {
      "text/plain": [
       "[[10, 1], [20, 1]]"
      ]
     },
     "execution_count": 42,
     "metadata": {},
     "output_type": "execute_result"
    }
   ],
   "source": [
    "liste = [[10,1]]\n",
    "liste.append([20,len(liste)])\n",
    "liste"
   ]
  },
  {
   "cell_type": "code",
   "execution_count": null,
   "metadata": {
    "collapsed": false
   },
   "outputs": [],
   "source": []
  },
  {
   "cell_type": "code",
   "execution_count": 46,
   "metadata": {
    "collapsed": false
   },
   "outputs": [
    {
     "data": {
      "text/plain": [
       "1.0"
      ]
     },
     "execution_count": 46,
     "metadata": {},
     "output_type": "execute_result"
    }
   ],
   "source": [
    "import math\n",
    "math.sqrt((-1)**2)"
   ]
  },
  {
   "cell_type": "code",
   "execution_count": 6,
   "metadata": {
    "collapsed": true
   },
   "outputs": [],
   "source": [
    "lt = []"
   ]
  },
  {
   "cell_type": "code",
   "execution_count": 7,
   "metadata": {
    "collapsed": false
   },
   "outputs": [
    {
     "data": {
      "text/plain": [
       "0"
      ]
     },
     "execution_count": 7,
     "metadata": {},
     "output_type": "execute_result"
    }
   ],
   "source": [
    "len(lt)"
   ]
  },
  {
   "cell_type": "code",
   "execution_count": null,
   "metadata": {
    "collapsed": true
   },
   "outputs": [],
   "source": []
  },
  {
   "cell_type": "code",
   "execution_count": 6,
   "metadata": {
    "collapsed": false
   },
   "outputs": [
    {
     "data": {
      "text/plain": [
       "{0: [[2, 1, 10, 0, 100], [4, 41, 432, 0, 104]],\n",
       " 1: [[2, 21, 22, 1, 88], [4, 67, 88, 1, 90]]}"
      ]
     },
     "execution_count": 6,
     "metadata": {},
     "output_type": "execute_result"
    }
   ],
   "source": [
    "import itertools\n",
    "particles = {0: [[10,11,12,0],[40,41,42,0]], 1: [[20,21,22,1]]}\n",
    "detections = {0 : [[2,1,10,0,100],[4,41,432,0,104]], 1: [[2,21,22,1,88],[4,67,88,1,90]]}\n",
    "particles\n",
    "detections"
   ]
  },
  {
   "cell_type": "code",
   "execution_count": 7,
   "metadata": {
    "collapsed": false
   },
   "outputs": [
    {
     "name": "stdout",
     "output_type": "stream",
     "text": [
      "[[10, 11, 12, 0], [40, 41, 42, 0]] [2, 1, 10, 0, 100]\n",
      "[[10, 11, 12, 0], [40, 41, 42, 0]] [4, 41, 432, 0, 104]\n",
      "[[10, 11, 12, 0], [40, 41, 42, 0]] [2, 21, 22, 1, 88]\n",
      "[[10, 11, 12, 0], [40, 41, 42, 0]] [4, 67, 88, 1, 90]\n",
      "[[20, 21, 22, 1]] [2, 1, 10, 0, 100]\n",
      "[[20, 21, 22, 1]] [4, 41, 432, 0, 104]\n",
      "[[20, 21, 22, 1]] [2, 21, 22, 1, 88]\n",
      "[[20, 21, 22, 1]] [4, 67, 88, 1, 90]\n"
     ]
    }
   ],
   "source": [
    "for track,detect in list(itertools.product(particles.values(),list(itertools.chain.from_iterable(detections.values())))):\n",
    "    print track,detect"
   ]
  },
  {
   "cell_type": "code",
   "execution_count": 22,
   "metadata": {
    "collapsed": false
   },
   "outputs": [
    {
     "data": {
      "text/plain": [
       "[[[10, 11, 12, 0], [40, 41, 42, 0]], [[20, 21, 22, 1]]]"
      ]
     },
     "execution_count": 22,
     "metadata": {},
     "output_type": "execute_result"
    }
   ],
   "source": [
    "particles.values()"
   ]
  },
  {
   "cell_type": "code",
   "execution_count": 34,
   "metadata": {
    "collapsed": false
   },
   "outputs": [
    {
     "data": {
      "text/plain": [
       "True"
      ]
     },
     "execution_count": 34,
     "metadata": {},
     "output_type": "execute_result"
    }
   ],
   "source": [
    "particles.has_key(0)"
   ]
  },
  {
   "cell_type": "code",
   "execution_count": 36,
   "metadata": {
    "collapsed": false
   },
   "outputs": [
    {
     "data": {
      "text/plain": [
       "[[2, 1, 10, 0, 100],\n",
       " [4, 41, 432, 0, 104],\n",
       " [2, 21, 22, 1, 88],\n",
       " [4, 67, 88, 1, 90]]"
      ]
     },
     "execution_count": 36,
     "metadata": {},
     "output_type": "execute_result"
    }
   ],
   "source": [
    "list(itertools.chain.from_iterable(detections.values()))"
   ]
  },
  {
   "cell_type": "code",
   "execution_count": 5,
   "metadata": {
    "collapsed": false
   },
   "outputs": [],
   "source": [
    "new_dict = dict()\n",
    "for key,val in detections.iteritems():\n",
    "    new_dict[key]=val"
   ]
  },
  {
   "cell_type": "code",
   "execution_count": 6,
   "metadata": {
    "collapsed": false
   },
   "outputs": [
    {
     "data": {
      "text/plain": [
       "{0: [[2, 1, 10, 0, 100], [4, 41, 432, 0, 104]],\n",
       " 1: [[2, 21, 22, 1, 88], [4, 67, 88, 1, 90]]}"
      ]
     },
     "execution_count": 6,
     "metadata": {},
     "output_type": "execute_result"
    }
   ],
   "source": [
    "new_dict"
   ]
  },
  {
   "cell_type": "code",
   "execution_count": null,
   "metadata": {
    "collapsed": true
   },
   "outputs": [],
   "source": []
  },
  {
   "cell_type": "code",
   "execution_count": 39,
   "metadata": {
    "collapsed": false
   },
   "outputs": [
    {
     "data": {
      "text/plain": [
       "[[2, 21, 22, 1, 88], [4, 67, 88, 1, 90]]"
      ]
     },
     "execution_count": 39,
     "metadata": {},
     "output_type": "execute_result"
    }
   ],
   "source": [
    "detections.pop(1,None)"
   ]
  },
  {
   "cell_type": "code",
   "execution_count": 42,
   "metadata": {
    "collapsed": false
   },
   "outputs": [
    {
     "data": {
      "text/plain": [
       "True"
      ]
     },
     "execution_count": 42,
     "metadata": {},
     "output_type": "execute_result"
    }
   ],
   "source": [
    "detections != dict()"
   ]
  },
  {
   "cell_type": "code",
   "execution_count": 47,
   "metadata": {
    "collapsed": false
   },
   "outputs": [
    {
     "name": "stdout",
     "output_type": "stream",
     "text": [
      "[2, 1, 10, 0, 100]\n",
      "[4, 41, 432, 0, 104]\n",
      "[2, 21, 22, 1, 88]\n",
      "[4, 67, 88, 1, 90]\n"
     ]
    }
   ],
   "source": [
    "for i in list(itertools.chain.from_iterable(detections.values())):\n",
    "    print i"
   ]
  },
  {
   "cell_type": "code",
   "execution_count": null,
   "metadata": {
    "collapsed": true
   },
   "outputs": [],
   "source": []
  },
  {
   "cell_type": "code",
   "execution_count": 3,
   "metadata": {
    "collapsed": false
   },
   "outputs": [
    {
     "name": "stdout",
     "output_type": "stream",
     "text": [
      "[[2, 1, 10, 0, 100], [4, 41, 432, 0, 104]]\n",
      "[[2, 21, 22, 1, 88], [4, 67, 88, 1, 90]]\n",
      "[]\n"
     ]
    }
   ],
   "source": [
    "detections = {0 : [[2,1,10,0,100],[4,41,432,0,104]], 1: [[2,21,22,1,88],[4,67,88,1,90]], 2: []}\n",
    "for i in detections.values():\n",
    "    print i"
   ]
  },
  {
   "cell_type": "code",
   "execution_count": 12,
   "metadata": {
    "collapsed": false
   },
   "outputs": [
    {
     "data": {
      "text/plain": [
       "0"
      ]
     },
     "execution_count": 12,
     "metadata": {},
     "output_type": "execute_result"
    }
   ],
   "source": [
    "len(detections[2])"
   ]
  },
  {
   "cell_type": "code",
   "execution_count": 6,
   "metadata": {
    "collapsed": false
   },
   "outputs": [
    {
     "data": {
      "text/plain": [
       "{0: [], 1: [[2, 21, 22, 1, 88], [4, 67, 88, 1, 90]], 2: []}"
      ]
     },
     "execution_count": 6,
     "metadata": {},
     "output_type": "execute_result"
    }
   ],
   "source": [
    "detections[0] = []\n",
    "detections"
   ]
  },
  {
   "cell_type": "code",
   "execution_count": null,
   "metadata": {
    "collapsed": false
   },
   "outputs": [],
   "source": []
  },
  {
   "cell_type": "code",
   "execution_count": 36,
   "metadata": {
    "collapsed": true
   },
   "outputs": [],
   "source": [
    "particles = {0: [[10,10,12,0],[40,20,42,0]], 1: [[20,30,22,1]]}"
   ]
  },
  {
   "cell_type": "code",
   "execution_count": 5,
   "metadata": {
    "collapsed": false
   },
   "outputs": [
    {
     "name": "stdout",
     "output_type": "stream",
     "text": [
      "9.7\n"
     ]
    }
   ],
   "source": [
    "import itertools\n",
    "tot_w = 0\n",
    "for w in list(itertools.chain.from_iterable(particles.values())):\n",
    "    tot_w = tot_w + w[1]\n",
    "print tot_w"
   ]
  },
  {
   "cell_type": "code",
   "execution_count": 38,
   "metadata": {
    "collapsed": false
   },
   "outputs": [
    {
     "name": "stdout",
     "output_type": "stream",
     "text": [
      "{0: [[10, 0.16666666666666666, 12, 0], [40, 0.3333333333333333, 42, 0]], 1: [[20, 0.5, 22, 1]]}\n"
     ]
    }
   ],
   "source": [
    "for w in list(itertools.chain.from_iterable(particles.values())):\n",
    "    w[1] = w[1]/float(tot_w)\n",
    "print particles    "
   ]
  },
  {
   "cell_type": "code",
   "execution_count": null,
   "metadata": {
    "collapsed": true
   },
   "outputs": [],
   "source": []
  },
  {
   "cell_type": "code",
   "execution_count": null,
   "metadata": {
    "collapsed": true
   },
   "outputs": [],
   "source": []
  },
  {
   "cell_type": "code",
   "execution_count": 12,
   "metadata": {
    "collapsed": false
   },
   "outputs": [
    {
     "data": {
      "text/plain": [
       "-0.5984630990570153"
      ]
     },
     "execution_count": 12,
     "metadata": {},
     "output_type": "execute_result"
    }
   ],
   "source": [
    "np.random.normal(0,1)"
   ]
  },
  {
   "cell_type": "code",
   "execution_count": null,
   "metadata": {
    "collapsed": false
   },
   "outputs": [],
   "source": []
  },
  {
   "cell_type": "code",
   "execution_count": null,
   "metadata": {
    "collapsed": true
   },
   "outputs": [],
   "source": []
  },
  {
   "cell_type": "code",
   "execution_count": 10,
   "metadata": {
    "collapsed": false
   },
   "outputs": [
    {
     "data": {
      "text/plain": [
       "0.69146246127401312"
      ]
     },
     "execution_count": 10,
     "metadata": {},
     "output_type": "execute_result"
    }
   ],
   "source": [
    "#ss.norm(mean,standard deviation).cdf(X for the evaluation)\n",
    "ss.norm(0,2).cdf(1)"
   ]
  },
  {
   "cell_type": "code",
   "execution_count": null,
   "metadata": {
    "collapsed": true
   },
   "outputs": [],
   "source": []
  },
  {
   "cell_type": "code",
   "execution_count": null,
   "metadata": {
    "collapsed": true
   },
   "outputs": [],
   "source": []
  },
  {
   "cell_type": "code",
   "execution_count": 11,
   "metadata": {
    "collapsed": false
   },
   "outputs": [],
   "source": [
    "a = 3\n",
    "b = 5\n",
    "for i in range(1,4):\n",
    "    if b > 4:\n",
    "        if a > 4:\n",
    "            print \"if-if\"\n",
    "        else:\n",
    "            continue\n",
    "    else:\n",
    "        print i\n",
    "    print \"jj\""
   ]
  },
  {
   "cell_type": "code",
   "execution_count": null,
   "metadata": {
    "collapsed": false
   },
   "outputs": [],
   "source": []
  },
  {
   "cell_type": "code",
   "execution_count": null,
   "metadata": {
    "collapsed": true
   },
   "outputs": [],
   "source": []
  },
  {
   "cell_type": "code",
   "execution_count": 3,
   "metadata": {
    "collapsed": true
   },
   "outputs": [],
   "source": [
    "detections = {0 : [[2,1,10,0,100],[4,41,432,0,104]], 1: [[2,21,22,1,88],[4,67,88,1,90]]}"
   ]
  },
  {
   "cell_type": "code",
   "execution_count": 4,
   "metadata": {
    "collapsed": false
   },
   "outputs": [
    {
     "data": {
      "text/plain": [
       "1"
      ]
     },
     "execution_count": 4,
     "metadata": {},
     "output_type": "execute_result"
    }
   ],
   "source": [
    "detections[0].index([4,41,432,0,104])"
   ]
  },
  {
   "cell_type": "code",
   "execution_count": 5,
   "metadata": {
    "collapsed": false
   },
   "outputs": [
    {
     "data": {
      "text/plain": [
       "[[[2, 1, 10, 0, 100], [4, 41, 432, 0, 104]],\n",
       " [[2, 21, 22, 1, 88], [4, 67, 88, 1, 90]]]"
      ]
     },
     "execution_count": 5,
     "metadata": {},
     "output_type": "execute_result"
    }
   ],
   "source": [
    "detections.values()"
   ]
  },
  {
   "cell_type": "code",
   "execution_count": null,
   "metadata": {
    "collapsed": true
   },
   "outputs": [],
   "source": []
  },
  {
   "cell_type": "code",
   "execution_count": null,
   "metadata": {
    "collapsed": true
   },
   "outputs": [],
   "source": []
  },
  {
   "cell_type": "code",
   "execution_count": 108,
   "metadata": {
    "collapsed": true
   },
   "outputs": [],
   "source": [
    "# Resampling\n",
    "import random\n",
    "particles = {0: [[10,2.2,12,0],[40,4.1,42,0]], 1: [[20,2.7,22,1],[4,1.3,33,1]]}"
   ]
  },
  {
   "cell_type": "code",
   "execution_count": 117,
   "metadata": {
    "collapsed": false
   },
   "outputs": [],
   "source": [
    "new_particles = dict()\n",
    "for key,track in particles.iteritems():\n",
    "    sum_part = 0\n",
    "    norm_weight = []\n",
    "    weight = []\n",
    "    #Sum of the weights\n",
    "    for part in track:\n",
    "        sum_part = sum_part + part[1]\n",
    "    #Normalize the weight\n",
    "    for part in track:\n",
    "        norm_weight.append(part[1]/float(sum_part))\n",
    "        weight.append(track.index(part))\n",
    "    random_weight = np.random.choice(weight,len(track),p=norm_weight)\n",
    "    new_particles[key] = []\n",
    "    #Build the new sample of particles\n",
    "    for idx in random_weight:\n",
    "        new_particles[key].append(track[idx])"
   ]
  },
  {
   "cell_type": "code",
   "execution_count": 118,
   "metadata": {
    "collapsed": false
   },
   "outputs": [
    {
     "data": {
      "text/plain": [
       "{0: [[40, 4.1, 42, 0], [40, 4.1, 42, 0]],\n",
       " 1: [[20, 2.7, 22, 1], [4, 1.3, 33, 1]]}"
      ]
     },
     "execution_count": 118,
     "metadata": {},
     "output_type": "execute_result"
    }
   ],
   "source": [
    "new_particles"
   ]
  },
  {
   "cell_type": "code",
   "execution_count": 64,
   "metadata": {
    "collapsed": false
   },
   "outputs": [],
   "source": [
    "norm_weight = []\n",
    "weight = []\n",
    "for part in list(itertools.chain.from_iterable(particles.values())):\n",
    "    norm_weight.append(part[1]/float(sum_part))\n",
    "    weight.append(part[1])"
   ]
  },
  {
   "cell_type": "code",
   "execution_count": 66,
   "metadata": {
    "collapsed": false
   },
   "outputs": [
    {
     "data": {
      "text/plain": [
       "[2.2, 4.1, 2.7, 1.3]"
      ]
     },
     "execution_count": 66,
     "metadata": {},
     "output_type": "execute_result"
    }
   ],
   "source": [
    "weight"
   ]
  },
  {
   "cell_type": "code",
   "execution_count": null,
   "metadata": {
    "collapsed": false
   },
   "outputs": [],
   "source": []
  },
  {
   "cell_type": "code",
   "execution_count": 67,
   "metadata": {
    "collapsed": false
   },
   "outputs": [
    {
     "data": {
      "text/plain": [
       "array([ 4.1,  1.3,  2.2,  2.7,  2.7])"
      ]
     },
     "execution_count": 67,
     "metadata": {},
     "output_type": "execute_result"
    }
   ],
   "source": [
    "np.random.choice(weight,5,p=norm_weight)"
   ]
  },
  {
   "cell_type": "code",
   "execution_count": null,
   "metadata": {
    "collapsed": true
   },
   "outputs": [],
   "source": []
  },
  {
   "cell_type": "code",
   "execution_count": null,
   "metadata": {
    "collapsed": true
   },
   "outputs": [],
   "source": []
  },
  {
   "cell_type": "code",
   "execution_count": null,
   "metadata": {
    "collapsed": true
   },
   "outputs": [],
   "source": []
  },
  {
   "cell_type": "code",
   "execution_count": null,
   "metadata": {
    "collapsed": true
   },
   "outputs": [],
   "source": []
  }
 ],
 "metadata": {
  "anaconda-cloud": {},
  "kernelspec": {
   "display_name": "Python [Root]",
   "language": "python",
   "name": "Python [Root]"
  },
  "language_info": {
   "codemirror_mode": {
    "name": "ipython",
    "version": 2
   },
   "file_extension": ".py",
   "mimetype": "text/x-python",
   "name": "python",
   "nbconvert_exporter": "python",
   "pygments_lexer": "ipython2",
   "version": "2.7.11"
  }
 },
 "nbformat": 4,
 "nbformat_minor": 0
}
